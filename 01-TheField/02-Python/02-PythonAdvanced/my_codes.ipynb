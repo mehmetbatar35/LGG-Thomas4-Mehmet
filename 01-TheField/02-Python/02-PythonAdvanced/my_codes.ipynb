{
 "cells": [
  {
   "cell_type": "code",
   "execution_count": 27,
   "id": "1485f086-8706-40aa-95b8-ec7d43a6b965",
   "metadata": {
    "tags": []
   },
   "outputs": [],
   "source": [
    "class Car:\n",
    "    def __init__(self):\n",
    "        self.name = \"Ferrari\""
   ]
  },
  {
   "cell_type": "code",
   "execution_count": 29,
   "id": "d3534a16-bb35-4ad1-a7eb-69c42174c8ee",
   "metadata": {
    "tags": []
   },
   "outputs": [],
   "source": [
    "bombo = Car()"
   ]
  },
  {
   "cell_type": "code",
   "execution_count": 31,
   "id": "5f0892fb-dc0d-4496-bf22-2daf38a41be5",
   "metadata": {
    "tags": []
   },
   "outputs": [
    {
     "data": {
      "text/plain": [
       "__main__.Car"
      ]
     },
     "execution_count": 31,
     "metadata": {},
     "output_type": "execute_result"
    }
   ],
   "source": [
    "type(bombo)"
   ]
  },
  {
   "cell_type": "code",
   "execution_count": 35,
   "id": "7b0c49bb-b558-46e9-b65d-dd625f7a42e1",
   "metadata": {
    "tags": []
   },
   "outputs": [
    {
     "data": {
      "text/plain": [
       "'Ferrari'"
      ]
     },
     "execution_count": 35,
     "metadata": {},
     "output_type": "execute_result"
    }
   ],
   "source": [
    "bombo.name"
   ]
  },
  {
   "cell_type": "code",
   "execution_count": 23,
   "id": "3a100e65-3686-4885-9b2c-5feab66af586",
   "metadata": {
    "tags": []
   },
   "outputs": [],
   "source": [
    "bombo.model = \"250\""
   ]
  },
  {
   "cell_type": "code",
   "execution_count": 25,
   "id": "5c028398-4fc9-416a-9d70-c973bc88575c",
   "metadata": {
    "tags": []
   },
   "outputs": [
    {
     "data": {
      "text/plain": [
       "'250'"
      ]
     },
     "execution_count": 25,
     "metadata": {},
     "output_type": "execute_result"
    }
   ],
   "source": [
    "bombo.model"
   ]
  },
  {
   "cell_type": "code",
   "execution_count": 45,
   "id": "80316743-4225-4c92-af0d-8fbe73904809",
   "metadata": {
    "tags": []
   },
   "outputs": [],
   "source": [
    "class Person:\n",
    "    def __init__(self, firstname, lastname):\n",
    "        self.firstname = firstname\n",
    "        self.lastname = lastname\n",
    "        self.age = 34\n",
    "        self.place_residence = \"Leuven\"\n",
    "        "
   ]
  },
  {
   "cell_type": "code",
   "execution_count": 47,
   "id": "013eb337-8606-405b-b47c-d8f2b47a1c98",
   "metadata": {
    "tags": []
   },
   "outputs": [
    {
     "name": "stdout",
     "output_type": "stream",
     "text": [
      "<__main__.Person object at 0x000001571B7A6750>\n"
     ]
    }
   ],
   "source": [
    "coach = Person(\"Ludovic\", \"Patho\")\n",
    "print(coach)"
   ]
  },
  {
   "cell_type": "code",
   "execution_count": 49,
   "id": "484ef5c3-0498-4894-906c-add91a7fd420",
   "metadata": {
    "tags": []
   },
   "outputs": [
    {
     "data": {
      "text/plain": [
       "('Ludovic', 'Patho', 34, 'Leuven')"
      ]
     },
     "execution_count": 49,
     "metadata": {},
     "output_type": "execute_result"
    }
   ],
   "source": [
    "(coach.firstname, coach.lastname, coach.age, coach.place_residence)"
   ]
  },
  {
   "cell_type": "code",
   "execution_count": 53,
   "id": "4ec616e4-fd0c-4780-8523-a8b33a35c72a",
   "metadata": {
    "tags": []
   },
   "outputs": [],
   "source": [
    "coach.birthday = \"24-06-1984\""
   ]
  },
  {
   "cell_type": "markdown",
   "id": "ad569d44-bed6-416d-a1a1-1da63da17035",
   "metadata": {},
   "source": [
    "# -------------------"
   ]
  },
  {
   "cell_type": "code",
   "execution_count": 56,
   "id": "96a189fc-201e-4357-b814-83f9aa690b79",
   "metadata": {
    "tags": []
   },
   "outputs": [],
   "source": [
    "class Counter:\n",
    "    objects_created = 0\n",
    "    def __init__(self):\n",
    "        Counter.objects_created = Counter.objects_created + 1"
   ]
  },
  {
   "cell_type": "code",
   "execution_count": 60,
   "id": "5d91c0a5-2511-4f68-9e99-b218f200e2a3",
   "metadata": {
    "tags": []
   },
   "outputs": [
    {
     "data": {
      "text/plain": [
       "0"
      ]
     },
     "execution_count": 60,
     "metadata": {},
     "output_type": "execute_result"
    }
   ],
   "source": [
    "Counter.objects_created"
   ]
  },
  {
   "cell_type": "code",
   "execution_count": 62,
   "id": "21b458ae-a7e9-4628-9f5d-ca9a0f45dfc4",
   "metadata": {
    "tags": []
   },
   "outputs": [
    {
     "name": "stdout",
     "output_type": "stream",
     "text": [
      "1\n"
     ]
    }
   ],
   "source": [
    "# Create a first object\n",
    "\n",
    "a = Counter()\n",
    "\n",
    "print(Counter.objects_created)"
   ]
  },
  {
   "cell_type": "code",
   "execution_count": 64,
   "id": "75b998da-3a80-46df-bba5-17d0628cf29c",
   "metadata": {
    "tags": []
   },
   "outputs": [
    {
     "name": "stdout",
     "output_type": "stream",
     "text": [
      "2\n"
     ]
    }
   ],
   "source": [
    "b = Counter()\n",
    "\n",
    "print(b.objects_created)"
   ]
  },
  {
   "cell_type": "markdown",
   "id": "da24cad7-5845-4d59-ab65-5875861f63d4",
   "metadata": {},
   "source": [
    "# ---------------------------\n"
   ]
  },
  {
   "cell_type": "code",
   "execution_count": 71,
   "id": "9273467e-ec07-4aa4-ace7-d2583bf020e8",
   "metadata": {
    "tags": []
   },
   "outputs": [],
   "source": [
    "class Blackboard:\n",
    "    def __init__(self):\n",
    "        \"By default, our surface is empty\"\n",
    "        self.surface = \"\"\n",
    "    def write(self, message_written):\n",
    "        if self.surface:\n",
    "            self.surface += \"\\n\"\n",
    "        self.surface += message_written    "
   ]
  },
  {
   "cell_type": "code",
   "execution_count": 73,
   "id": "0e3610d7-3b0b-49f0-8776-524fb812f5f8",
   "metadata": {
    "tags": []
   },
   "outputs": [
    {
     "name": "stdout",
     "output_type": "stream",
     "text": [
      "\n"
     ]
    }
   ],
   "source": [
    "board = Blackboard()\n",
    "print(board.surface)"
   ]
  },
  {
   "cell_type": "code",
   "execution_count": 77,
   "id": "a7d96b0c-289e-43ec-bbed-de83963e35f3",
   "metadata": {
    "tags": []
   },
   "outputs": [],
   "source": [
    "board.write(\"Hello, How are you?\")"
   ]
  },
  {
   "cell_type": "code",
   "execution_count": 79,
   "id": "ffb17667-a9f5-4149-bbb4-45a086905104",
   "metadata": {
    "tags": []
   },
   "outputs": [
    {
     "name": "stdout",
     "output_type": "stream",
     "text": [
      "Hello, How are you?\n"
     ]
    }
   ],
   "source": [
    "print(board.surface)"
   ]
  },
  {
   "cell_type": "code",
   "execution_count": 81,
   "id": "ca8aa3a9-9d12-46d9-90bf-3c889a5303f4",
   "metadata": {
    "tags": []
   },
   "outputs": [],
   "source": [
    "board.write(\"Have a good start of the school year!\")"
   ]
  },
  {
   "cell_type": "code",
   "execution_count": 83,
   "id": "98a9e5fb-1a28-41f9-9161-4fd644291075",
   "metadata": {
    "tags": []
   },
   "outputs": [
    {
     "name": "stdout",
     "output_type": "stream",
     "text": [
      "Hello, How are you?\n",
      "Have a good start of the school year!\n"
     ]
    }
   ],
   "source": [
    "print(board.surface)"
   ]
  },
  {
   "cell_type": "code",
   "execution_count": 86,
   "id": "658e9b0e-7816-411e-b7d1-f40a0575a0ca",
   "metadata": {
    "tags": []
   },
   "outputs": [],
   "source": [
    "board.write(\"Hello Swartz\")\n",
    "Blackboard.write(board, \"Hello Turing\")"
   ]
  },
  {
   "cell_type": "code",
   "execution_count": 88,
   "id": "839dd9d1-c50f-4eaa-93d8-05bda9b66114",
   "metadata": {
    "tags": []
   },
   "outputs": [
    {
     "name": "stdout",
     "output_type": "stream",
     "text": [
      "Hello, How are you?\n",
      "Have a good start of the school year!\n",
      "Hello Swartz\n",
      "Hello Turing\n"
     ]
    }
   ],
   "source": [
    "print(board.surface)"
   ]
  },
  {
   "cell_type": "code",
   "execution_count": 90,
   "id": "ac68a7b4-29bc-41d6-bb18-83a84dc652fc",
   "metadata": {
    "tags": []
   },
   "outputs": [
    {
     "name": "stdout",
     "output_type": "stream",
     "text": [
      "Help on function write in module __main__:\n",
      "\n",
      "write(self, message_written)\n",
      "\n"
     ]
    }
   ],
   "source": [
    "help(Blackboard.write)"
   ]
  },
  {
   "cell_type": "code",
   "execution_count": 92,
   "id": "6146ea72-86cc-49ae-b4aa-ea53be8765b9",
   "metadata": {
    "tags": []
   },
   "outputs": [
    {
     "name": "stdout",
     "output_type": "stream",
     "text": [
      "Hello, How are you?\n",
      "Have a good start of the school year!\n",
      "Hello Swartz\n",
      "Hello Turing\n",
      "try\n"
     ]
    }
   ],
   "source": [
    "Blackboard.write(board, \"try\")\n",
    "print(board.surface)"
   ]
  },
  {
   "cell_type": "markdown",
   "id": "34028e04-64a0-4181-94b5-ae9ebcd97230",
   "metadata": {},
   "source": [
    "# -----------------------------\n"
   ]
  },
  {
   "cell_type": "code",
   "execution_count": 116,
   "id": "77e570e0-7ad7-47b1-bdd4-fc9505414885",
   "metadata": {
    "tags": []
   },
   "outputs": [],
   "source": [
    "class Blackboard:\n",
    "    def __init__(self):\n",
    "        \"By default, our surface is empty\"\n",
    "        self.surface = \"\"\n",
    "    def write(self, message_written):\n",
    "        if self.surface:\n",
    "            self.surface += \"\\n\"\n",
    "        self.surface += message_written    \n",
    "    def read(self):\n",
    "             \"\"\"This method is in charge of displaying, thanks to print,\n",
    "        the surface of the painting\"\"\"\n",
    "        # to be completed\n",
    "        \n",
    "   \n",
    "    def reset(self):\n",
    "         \"\"\"This method allows you to erase the surface of the table\"\"\"\n",
    "        # to be completed\n",
    "        \n",
    "        \n",
    "        "
   ]
  },
  {
   "cell_type": "code",
   "execution_count": 118,
   "id": "520130ba-4f63-4625-b738-506f7464141e",
   "metadata": {
    "tags": []
   },
   "outputs": [],
   "source": [
    "board = Blackboard()"
   ]
  },
  {
   "cell_type": "code",
   "execution_count": 120,
   "id": "a150d801-8876-415a-94eb-ff0b68c08cf4",
   "metadata": {
    "tags": []
   },
   "outputs": [],
   "source": [
    "board.read()"
   ]
  },
  {
   "cell_type": "code",
   "execution_count": 131,
   "id": "29ed6d26-3155-46a7-b749-b7f20398c745",
   "metadata": {
    "tags": []
   },
   "outputs": [],
   "source": [
    "board.write(\"Hello everyone\")\n",
    "board.write(\"Are you all right?\")\n",
    "board.read()"
   ]
  },
  {
   "cell_type": "code",
   "execution_count": 133,
   "id": "6371a367-bece-4f52-a241-0a7cb13899e2",
   "metadata": {
    "tags": []
   },
   "outputs": [],
   "source": [
    "board.reset()\n",
    "board.read()"
   ]
  },
  {
   "cell_type": "code",
   "execution_count": 135,
   "id": "7b84f267-43c5-44bb-8a1c-b3fe796d0663",
   "metadata": {
    "tags": []
   },
   "outputs": [
    {
     "name": "stdout",
     "output_type": "stream",
     "text": [
      "Help on class Blackboard in module __main__:\n",
      "\n",
      "class Blackboard(builtins.object)\n",
      " |  Methods defined here:\n",
      " |  \n",
      " |  __init__(self)\n",
      " |      By default, our surface is empty\n",
      " |  \n",
      " |  read(self)\n",
      " |      This method is in charge of displaying, thanks to print,\n",
      " |      the surface of the painting\n",
      " |  \n",
      " |  reset(self)\n",
      " |      This method allows you to erase the surface of the table\n",
      " |  \n",
      " |  write(self, message_written)\n",
      " |  \n",
      " |  ----------------------------------------------------------------------\n",
      " |  Data descriptors defined here:\n",
      " |  \n",
      " |  __dict__\n",
      " |      dictionary for instance variables\n",
      " |  \n",
      " |  __weakref__\n",
      " |      list of weak references to the object\n",
      "\n"
     ]
    }
   ],
   "source": [
    "help(Blackboard)"
   ]
  },
  {
   "cell_type": "code",
   "execution_count": 137,
   "id": "ee1a112b-58c9-4cbd-be9a-977df363d0cb",
   "metadata": {
    "tags": []
   },
   "outputs": [
    {
     "data": {
      "text/plain": [
       "['__class__',\n",
       " '__delattr__',\n",
       " '__dict__',\n",
       " '__dir__',\n",
       " '__doc__',\n",
       " '__eq__',\n",
       " '__format__',\n",
       " '__ge__',\n",
       " '__getattribute__',\n",
       " '__getstate__',\n",
       " '__gt__',\n",
       " '__hash__',\n",
       " '__init__',\n",
       " '__init_subclass__',\n",
       " '__le__',\n",
       " '__lt__',\n",
       " '__module__',\n",
       " '__ne__',\n",
       " '__new__',\n",
       " '__reduce__',\n",
       " '__reduce_ex__',\n",
       " '__repr__',\n",
       " '__setattr__',\n",
       " '__sizeof__',\n",
       " '__str__',\n",
       " '__subclasshook__',\n",
       " '__weakref__',\n",
       " 'read',\n",
       " 'reset',\n",
       " 'write']"
      ]
     },
     "execution_count": 137,
     "metadata": {},
     "output_type": "execute_result"
    }
   ],
   "source": [
    "dir(Blackboard)"
   ]
  },
  {
   "cell_type": "markdown",
   "id": "97aa6e4f-0685-48c5-8c79-cd11be84e3e5",
   "metadata": {},
   "source": [
    "# Encapsulation"
   ]
  },
  {
   "cell_type": "code",
   "execution_count": 145,
   "id": "7892ffe5-7aa0-470a-a27f-56a4032fbbdc",
   "metadata": {
    "tags": []
   },
   "outputs": [],
   "source": [
    "class Blackboard:\n",
    "    \"\"\"Class defining a surface on which to write,\n",
    "    that can be read and deleted, by a set of methods. The modified attribute\n",
    "    is \"surface\" \"\"\"\n",
    "\n",
    "    def __init__(self):\n",
    "        \"\"\"By default, our surface is empty\"\"\"\n",
    "        self.surface = \"\"\n",
    "\n",
    "    def write(self, message_written):\n",
    "        \"\"\"Method for writing on the surface of the table.\n",
    "        If the surface is not empty, we skip a line before adding\n",
    "        the message to be written\"\"\"\n",
    "\n",
    "        if self.surface != \"\":\n",
    "            self.surface += \"\\n\"\n",
    "        self.surface += message_written\n",
    "\n",
    "    def read(self):\n",
    "        return self.surface"
   ]
  },
  {
   "cell_type": "code",
   "execution_count": 147,
   "id": "b5781f16-0ce3-476e-93ce-766590d61199",
   "metadata": {
    "tags": []
   },
   "outputs": [
    {
     "data": {
      "text/plain": [
       "'Hello guys'"
      ]
     },
     "execution_count": 147,
     "metadata": {},
     "output_type": "execute_result"
    }
   ],
   "source": [
    "board = Blackboard()\n",
    "board.write(\"another message\")\n",
    "board.surface = \"Hello guys\"\n",
    "board.read()"
   ]
  },
  {
   "cell_type": "markdown",
   "id": "fb078047-8f34-4879-aa25-759bf3b887d0",
   "metadata": {},
   "source": [
    "## -------------\n"
   ]
  },
  {
   "cell_type": "code",
   "execution_count": 166,
   "id": "79e19865-bde3-4e29-bf02-9a05c1dfa05a",
   "metadata": {
    "tags": []
   },
   "outputs": [],
   "source": [
    "class Blackboard:\n",
    "    \"\"\" dddddd\n",
    "    \"\"\"\n",
    "    def __init__(self):\n",
    "        self._surface = \"\"\n",
    "    def write(self, message_written):\n",
    "        \"\"\" dd \"\"\"\n",
    "        if self._surface != \"\":\n",
    "            self._surface += \"\\n\"\n",
    "            self._surface += message_written\n",
    "            \n",
    "    def read(self):\n",
    "        return self._surface"
   ]
  },
  {
   "cell_type": "code",
   "execution_count": 168,
   "id": "797d32fa-23d6-44f0-b4dc-2f08ce0dc002",
   "metadata": {
    "tags": []
   },
   "outputs": [
    {
     "data": {
      "text/plain": [
       "'Hello guys'"
      ]
     },
     "execution_count": 168,
     "metadata": {},
     "output_type": "execute_result"
    }
   ],
   "source": [
    "board = Blackboard()\n",
    "board.write(\"Another message\")\n",
    "board._surface = \"Hello guys\"\n",
    "board.read()"
   ]
  },
  {
   "cell_type": "code",
   "execution_count": 170,
   "id": "88881555-4b2a-44c4-b548-99e7d1a46a12",
   "metadata": {
    "tags": []
   },
   "outputs": [
    {
     "data": {
      "text/plain": [
       "''"
      ]
     },
     "execution_count": 170,
     "metadata": {},
     "output_type": "execute_result"
    }
   ],
   "source": [
    "board = Blackboard()\n",
    "board.write(\"Another message\")\n",
    "board.surface = \"Hello guys\"\n",
    "board.read()"
   ]
  },
  {
   "cell_type": "code",
   "execution_count": 175,
   "id": "b2e00a97-fe8a-4111-8eef-8dc9a63b96f8",
   "metadata": {
    "tags": []
   },
   "outputs": [
    {
     "name": "stdout",
     "output_type": "stream",
     "text": [
      "['a', 's', 'd', 'f']\n"
     ]
    }
   ],
   "source": [
    "print(list(\"asdf\"))"
   ]
  },
  {
   "cell_type": "code",
   "execution_count": null,
   "id": "bfbb6280-d736-474e-9b44-839e13efcdd6",
   "metadata": {},
   "outputs": [],
   "source": []
  },
  {
   "cell_type": "code",
   "execution_count": 179,
   "id": "2cb9e5f6-1075-4993-bf27-d13e4d341ca1",
   "metadata": {
    "tags": []
   },
   "outputs": [
    {
     "name": "stdout",
     "output_type": "stream",
     "text": [
      "Hello\n"
     ]
    }
   ],
   "source": [
    "def hello():\n",
    "    print(\"Hello\")\n",
    "    \n",
    "hello()    "
   ]
  },
  {
   "cell_type": "code",
   "execution_count": 199,
   "id": "f66f17f2-9d90-4cbb-912f-d05c43089abb",
   "metadata": {
    "tags": []
   },
   "outputs": [
    {
     "name": "stdout",
     "output_type": "stream",
     "text": [
      "['asdf', 'fghj']\n"
     ]
    }
   ],
   "source": [
    "a = \"asdf fghj\"\n",
    "\n",
    "b = a.split()\n",
    "print(b)\n"
   ]
  },
  {
   "cell_type": "code",
   "execution_count": 203,
   "id": "ae8d4178-3cc7-4bf4-9edd-395b39951bfb",
   "metadata": {
    "tags": []
   },
   "outputs": [
    {
     "name": "stdout",
     "output_type": "stream",
     "text": [
      "['a', 'f']\n"
     ]
    }
   ],
   "source": [
    "c = [i[0] for i in b]\n",
    "print(c)"
   ]
  },
  {
   "cell_type": "code",
   "execution_count": null,
   "id": "98de7bed-4340-4aa4-bf2e-0b7376bed710",
   "metadata": {},
   "outputs": [],
   "source": [
    "initials = [word[0] + '.' for word in b]\n"
   ]
  },
  {
   "cell_type": "markdown",
   "id": "cd557303-25c0-49d3-8f70-7d14ea901665",
   "metadata": {},
   "source": [
    "# ------------------------------->\n"
   ]
  },
  {
   "cell_type": "code",
   "execution_count": 208,
   "id": "886d1525-b3be-41fa-9bb9-f20f9c31d3d3",
   "metadata": {
    "tags": []
   },
   "outputs": [
    {
     "name": "stdout",
     "output_type": "stream",
     "text": [
      "I am Snoopy and I am 5 years old.\n"
     ]
    }
   ],
   "source": [
    "class Animal:\n",
    "    def __init__(self, name, age):\n",
    "        self.name = name\n",
    "        self.age = age\n",
    "        \n",
    "    def speak(self):\n",
    "        print(f'I am {self.name} and I am {self.age} years old.')\n",
    "        \n",
    "class Dog(Animal):\n",
    "    def __init__(self, name, age):\n",
    "        \n",
    "        self.name = name\n",
    "        self.age = age\n",
    "        self.type = \"dog\"\n",
    "        \n",
    "t = Dog(\"Snoopy\", 5)\n",
    "t.speak()"
   ]
  },
  {
   "cell_type": "markdown",
   "id": "2f4084bb-83a5-46bc-8620-c4abfbc75d82",
   "metadata": {},
   "source": [
    "# ---------------------------"
   ]
  },
  {
   "cell_type": "code",
   "execution_count": 213,
   "id": "2bc3a758-e547-4068-af2b-fb626b7dd961",
   "metadata": {
    "tags": []
   },
   "outputs": [
    {
     "name": "stdout",
     "output_type": "stream",
     "text": [
      "I am Snoopy and I am 5 years old.\n"
     ]
    }
   ],
   "source": [
    "class Animal:\n",
    "    def __init__(self, name, age):\n",
    "        self.name = name\n",
    "        self.age = age\n",
    "        \n",
    "    def speak(self):\n",
    "        print(f'I am {self.name} and I am {self.age} years old.')\n",
    "        \n",
    "class Dog(Animal):\n",
    "    def __init__(self, name, age):\n",
    "        super().__init__(name, age)\n",
    "        self.type = \"dog\"\n",
    "        \n",
    "t = Dog(\"Snoopy\", 5)\n",
    "t.speak()"
   ]
  },
  {
   "cell_type": "markdown",
   "id": "3baa5b0b-2dcb-4929-a8d2-43d8d29a3d63",
   "metadata": {},
   "source": [
    "# <<------------------->>"
   ]
  },
  {
   "cell_type": "code",
   "execution_count": 216,
   "id": "52d3057c-58e1-46b7-ae17-a2b1734eca24",
   "metadata": {
    "tags": []
   },
   "outputs": [],
   "source": [
    "class Person:\n",
    "    \n",
    "    def __init__(self, lastname, firstname):\n",
    "        self.lastname = lastname\n",
    "        self.firstname = firstname\n",
    "        \n",
    "    def __str__(self):\n",
    "        return f'{self.firstname} {self.lastname}'\n",
    "    \n",
    "    \n",
    "class SpecialAgent(Person):\n",
    "    \n",
    "    def __init__(self, lastname, firstname, id_number):\n",
    "        super().__init__(lastname, firstname)\n",
    "        self.id_number = id_number\n",
    "        \n",
    "    def __str__(self):\n",
    "        return f'Agent {self.lastname}. {self.firstname} {self.lastname}, ID {self.id_number}'\n",
    "        "
   ]
  },
  {
   "cell_type": "code",
   "execution_count": 218,
   "id": "c5efa3d8-7253-4248-8b1e-26d6a6c16d6d",
   "metadata": {
    "tags": []
   },
   "outputs": [
    {
     "name": "stdout",
     "output_type": "stream",
     "text": [
      "Agent Do. Lu Do, ID 007\n"
     ]
    }
   ],
   "source": [
    "agent_007 = SpecialAgent(\"Do\", \"Lu\", \"007\")\n",
    "\n",
    "print(agent_007)"
   ]
  },
  {
   "cell_type": "markdown",
   "id": "0b5290da-80f7-4911-abcb-884ab62d9bcd",
   "metadata": {},
   "source": [
    "# ******************************"
   ]
  },
  {
   "cell_type": "code",
   "execution_count": 252,
   "id": "5408dd72-b5d4-4f2f-9410-dd965ef943ba",
   "metadata": {
    "tags": []
   },
   "outputs": [
    {
     "name": "stdout",
     "output_type": "stream",
     "text": [
      "ludo is a staff member!\n"
     ]
    }
   ],
   "source": [
    "class Becodian:\n",
    "    def __init__(self, name, is_staff_member):\n",
    "        self.name = name\n",
    "        self.is_staff_member = is_staff_member\n",
    "        \n",
    "    def introduce_becodian(self):\n",
    "        if self.is_staff_member:\n",
    "            return f'{self.name} is a staff member!'\n",
    "        else:\n",
    "            return f'{self.name} is a learner!'\n",
    "        \n",
    "ludo = Becodian('ludo', True)\n",
    "\n",
    "print(ludo.introduce_becodian())\n",
    "\n",
    "\n",
    "class Learner(Becodian):\n",
    "    def __init__(self, name, promotion):\n",
    "        super().__init__(name, is_staff_member = False)\n",
    "        self.promotion = promotion\n",
    "        \n",
    "    def introduce_learner(self):\n",
    "        introduction = super().introduce_becodian()\n",
    "        return f'{introduction} from {self.promotion}'\n",
    "    \n",
    "\n"
   ]
  },
  {
   "cell_type": "code",
   "execution_count": 254,
   "id": "bc18512c-0f49-43bb-8fd7-230d1e28bcb7",
   "metadata": {
    "tags": []
   },
   "outputs": [
    {
     "name": "stdout",
     "output_type": "stream",
     "text": [
      "Jeremy is a learner! from Bouman 1\n"
     ]
    }
   ],
   "source": [
    "jeremy = Learner(\"Jeremy\", \"Bouman 1\")\n",
    "\n",
    "print(jeremy.introduce_learner())"
   ]
  },
  {
   "cell_type": "code",
   "execution_count": 257,
   "id": "fd2af10e-ad0d-4a24-add7-60e1e8c81490",
   "metadata": {
    "tags": []
   },
   "outputs": [
    {
     "name": "stdout",
     "output_type": "stream",
     "text": [
      "Giuliano is a learner! from Bouman 1\n"
     ]
    }
   ],
   "source": [
    "# This cell should print \"Giuliano is a learner! From Bouman 1\"\n",
    "giuliano = Learner(\"Giuliano\", \"Bouman 1\")\n",
    "\n",
    "print(giuliano.introduce_learner())"
   ]
  },
  {
   "cell_type": "code",
   "execution_count": 260,
   "id": "3d1674ca-3d4a-4ab8-8bc4-bb52eecad255",
   "metadata": {
    "tags": []
   },
   "outputs": [
    {
     "name": "stdout",
     "output_type": "stream",
     "text": [
      "Mathieu is a learner! from Bouman 1\n"
     ]
    }
   ],
   "source": [
    "# This cell should print \"Mathieu is a learner! From Bouman 1\"\n",
    "mathieu = Learner(\"Mathieu\", \"Bouman 1\")\n",
    "\n",
    "print(mathieu.introduce_learner())"
   ]
  },
  {
   "cell_type": "code",
   "execution_count": 263,
   "id": "089a4930-82ca-4fd9-b860-9071c8364b2f",
   "metadata": {
    "tags": []
   },
   "outputs": [
    {
     "name": "stdout",
     "output_type": "stream",
     "text": [
      "Geoffrey is a learner! from Bouman 1\n"
     ]
    }
   ],
   "source": [
    "# This cell should print \"Geoffrey is a learner! From Bouman 1\"\n",
    "geoffrey = Learner(\"Geoffrey\", \"Bouman 1\")\n",
    "\n",
    "print(geoffrey.introduce_learner())"
   ]
  },
  {
   "cell_type": "code",
   "execution_count": 266,
   "id": "c73d4479-f033-494e-a27f-c6ebb8875aeb",
   "metadata": {
    "tags": []
   },
   "outputs": [
    {
     "name": "stdout",
     "output_type": "stream",
     "text": [
      "Adrien is a learner! from Woods 1\n"
     ]
    }
   ],
   "source": [
    "# This cell should print \"Mathieu is a learner! From Woods 1\"\n",
    "adrien = Learner(\"Adrien\", \"Woods 1\")\n",
    "\n",
    "print(adrien.introduce_learner())"
   ]
  },
  {
   "cell_type": "markdown",
   "id": "015fd63d-f440-4682-9465-3ba6aca0a918",
   "metadata": {},
   "source": [
    "# +-+-+-+-+-+-++++-+-++--+++-+-+-+-+++--++-++\n"
   ]
  },
  {
   "cell_type": "markdown",
   "id": "161dc60c-e472-4121-be91-b6a6ae811a17",
   "metadata": {
    "colab_type": "text",
    "id": "f5YsM8CYzeHl"
   },
   "source": [
    "\n",
    "**1. Create a regex that finds integers without size limit.**"
   ]
  },
  {
   "cell_type": "code",
   "execution_count": 280,
   "id": "9fd69bab-e130-4eb8-9215-f6cf697e6988",
   "metadata": {
    "tags": []
   },
   "outputs": [
    {
     "name": "stdout",
     "output_type": "stream",
     "text": [
      "['8']\n"
     ]
    }
   ],
   "source": [
    "import re \n",
    "\n",
    "s = \"sssgdds8sfsfs\"\n",
    "\n",
    "pattern = r'\\d+'\n",
    "\n",
    "matches = re.findall(pattern, s)\n",
    "print(matches)\n"
   ]
  },
  {
   "cell_type": "markdown",
   "id": "ce89b656-3bb1-4f86-8a6b-530982ba9edf",
   "metadata": {},
   "source": [
    "**2. Create a regex that finds negative integers without size limit.**"
   ]
  },
  {
   "cell_type": "code",
   "execution_count": 283,
   "id": "dca426b4-bba0-4567-b83a-b87930d9c369",
   "metadata": {
    "tags": []
   },
   "outputs": [
    {
     "name": "stdout",
     "output_type": "stream",
     "text": [
      "['-8']\n"
     ]
    }
   ],
   "source": [
    "s = \"sssgdds-8sfsfs\"\n",
    "\n",
    "pattern = r'-?\\d+'\n",
    "\n",
    "matches = re.findall(pattern, s)\n",
    "print(matches)\n"
   ]
  },
  {
   "cell_type": "markdown",
   "id": "4d0cf70d-ada8-45fe-b604-9829274affca",
   "metadata": {},
   "source": [
    "**3. Create a regex that finds (positive or negative) integers without size limit.**\n"
   ]
  },
  {
   "cell_type": "code",
   "execution_count": 298,
   "id": "03b61fa1-5ddf-431c-8cb3-d315f5a3c28e",
   "metadata": {
    "tags": []
   },
   "outputs": [
    {
     "name": "stdout",
     "output_type": "stream",
     "text": [
      "['-8', '8']\n"
     ]
    }
   ],
   "source": [
    "s = \"sssgdds-8s8fsfs\"\n",
    "\n",
    "pattern = r'-?\\d+'\n",
    "\n",
    "matches = re.findall(pattern, s)\n",
    "print(matches)\n"
   ]
  },
  {
   "cell_type": "markdown",
   "id": "d5fb99c9-c55a-4b1e-b8b6-d381f5610841",
   "metadata": {},
   "source": [
    "# ****SCRAPPING****"
   ]
  },
  {
   "cell_type": "code",
   "execution_count": 6,
   "id": "c95cc13e-0710-45a9-b211-fa64c29710b5",
   "metadata": {},
   "outputs": [
    {
     "ename": "FileNotFoundError",
     "evalue": "[Errno 2] No such file or directory: './assets/data.xml'",
     "output_type": "error",
     "traceback": [
      "\u001b[1;31m---------------------------------------------------------------------------\u001b[0m",
      "\u001b[1;31mFileNotFoundError\u001b[0m                         Traceback (most recent call last)",
      "Cell \u001b[1;32mIn[6], line 2\u001b[0m\n\u001b[0;32m      1\u001b[0m filename \u001b[38;5;241m=\u001b[39m \u001b[38;5;124m'\u001b[39m\u001b[38;5;124m./assets/data.xml\u001b[39m\u001b[38;5;124m'\u001b[39m\n\u001b[1;32m----> 2\u001b[0m file \u001b[38;5;241m=\u001b[39m \u001b[38;5;28mopen\u001b[39m(filename, \u001b[38;5;124m'\u001b[39m\u001b[38;5;124mr\u001b[39m\u001b[38;5;124m'\u001b[39m)\n\u001b[0;32m      3\u001b[0m \u001b[38;5;28mprint\u001b[39m(file\u001b[38;5;241m.\u001b[39mread())\n\u001b[0;32m      4\u001b[0m file\u001b[38;5;241m.\u001b[39mclose\n",
      "File \u001b[1;32m~\\anaconda3\\Lib\\site-packages\\IPython\\core\\interactiveshell.py:310\u001b[0m, in \u001b[0;36m_modified_open\u001b[1;34m(file, *args, **kwargs)\u001b[0m\n\u001b[0;32m    303\u001b[0m \u001b[38;5;28;01mif\u001b[39;00m file \u001b[38;5;129;01min\u001b[39;00m {\u001b[38;5;241m0\u001b[39m, \u001b[38;5;241m1\u001b[39m, \u001b[38;5;241m2\u001b[39m}:\n\u001b[0;32m    304\u001b[0m     \u001b[38;5;28;01mraise\u001b[39;00m \u001b[38;5;167;01mValueError\u001b[39;00m(\n\u001b[0;32m    305\u001b[0m         \u001b[38;5;124mf\u001b[39m\u001b[38;5;124m\"\u001b[39m\u001b[38;5;124mIPython won\u001b[39m\u001b[38;5;124m'\u001b[39m\u001b[38;5;124mt let you open fd=\u001b[39m\u001b[38;5;132;01m{\u001b[39;00mfile\u001b[38;5;132;01m}\u001b[39;00m\u001b[38;5;124m by default \u001b[39m\u001b[38;5;124m\"\u001b[39m\n\u001b[0;32m    306\u001b[0m         \u001b[38;5;124m\"\u001b[39m\u001b[38;5;124mas it is likely to crash IPython. If you know what you are doing, \u001b[39m\u001b[38;5;124m\"\u001b[39m\n\u001b[0;32m    307\u001b[0m         \u001b[38;5;124m\"\u001b[39m\u001b[38;5;124myou can use builtins\u001b[39m\u001b[38;5;124m'\u001b[39m\u001b[38;5;124m open.\u001b[39m\u001b[38;5;124m\"\u001b[39m\n\u001b[0;32m    308\u001b[0m     )\n\u001b[1;32m--> 310\u001b[0m \u001b[38;5;28;01mreturn\u001b[39;00m io_open(file, \u001b[38;5;241m*\u001b[39margs, \u001b[38;5;241m*\u001b[39m\u001b[38;5;241m*\u001b[39mkwargs)\n",
      "\u001b[1;31mFileNotFoundError\u001b[0m: [Errno 2] No such file or directory: './assets/data.xml'"
     ]
    }
   ],
   "source": [
    "filename = './assets/data.xml'\n",
    "file = open(filename, 'r')\n",
    "print(file.read())\n",
    "file.close"
   ]
  },
  {
   "cell_type": "code",
   "execution_count": null,
   "id": "b72607bd-f9f7-4db2-88e2-8aac6d727751",
   "metadata": {},
   "outputs": [],
   "source": []
  },
  {
   "cell_type": "markdown",
   "id": "193e829f-78e7-4a13-b50f-cdb467efc9de",
   "metadata": {},
   "source": [
    "# API\n"
   ]
  },
  {
   "cell_type": "code",
   "execution_count": null,
   "id": "eab0bf38-983f-4cc0-aa47-ca794572d652",
   "metadata": {},
   "outputs": [],
   "source": [
    "import requests\n",
    "\n",
    "root url = \"https://api.publicapis.org\"\n",
    "endpoint = \"entries\"\n",
    "params = {\n",
    "    \"apiKey\": \"\"\n",
    "    \"sources\": \"\"\n",
    "\n",
    "}\n",
    "\n",
    "response = request.get(f\"{root_url}/{endpoint}\")"
   ]
  },
  {
   "cell_type": "code",
   "execution_count": null,
   "id": "b34767bb-4e6c-496b-b109-ec23562b3aed",
   "metadata": {},
   "outputs": [],
   "source": []
  },
  {
   "cell_type": "code",
   "execution_count": null,
   "id": "1fc42738-09f3-446d-be60-9d9856818114",
   "metadata": {},
   "outputs": [],
   "source": []
  },
  {
   "cell_type": "code",
   "execution_count": null,
   "id": "ece40cad-2cc5-4b71-b051-2c1c1098efbb",
   "metadata": {},
   "outputs": [],
   "source": []
  },
  {
   "cell_type": "code",
   "execution_count": null,
   "id": "dffe9657-afd3-4a2e-b4bf-24b6755370e3",
   "metadata": {},
   "outputs": [],
   "source": []
  },
  {
   "cell_type": "code",
   "execution_count": null,
   "id": "87f96469-1961-4bac-93b6-1b31fa27ee6e",
   "metadata": {},
   "outputs": [],
   "source": []
  },
  {
   "cell_type": "code",
   "execution_count": null,
   "id": "e746b936-ba6f-488c-ad79-0cdbe78bd7d7",
   "metadata": {},
   "outputs": [],
   "source": []
  },
  {
   "cell_type": "code",
   "execution_count": null,
   "id": "e9c368aa-846f-4994-95c6-25f57a741774",
   "metadata": {},
   "outputs": [],
   "source": []
  },
  {
   "cell_type": "code",
   "execution_count": null,
   "id": "d7b281b5-7734-4027-bac5-27e5662792c9",
   "metadata": {},
   "outputs": [],
   "source": []
  },
  {
   "cell_type": "code",
   "execution_count": null,
   "id": "f7c31c56-5857-4ae0-a4db-bc5892e7cae6",
   "metadata": {},
   "outputs": [],
   "source": []
  },
  {
   "cell_type": "code",
   "execution_count": null,
   "id": "954215ad-658a-417f-ab82-7f2ffd4421fb",
   "metadata": {},
   "outputs": [],
   "source": []
  },
  {
   "cell_type": "code",
   "execution_count": null,
   "id": "cfd41a04-409f-4ff9-8b2f-6c05927a4f73",
   "metadata": {},
   "outputs": [],
   "source": []
  },
  {
   "cell_type": "code",
   "execution_count": null,
   "id": "ae9f9bcb-ee57-48d2-9be9-be518c9ced96",
   "metadata": {},
   "outputs": [],
   "source": []
  },
  {
   "cell_type": "code",
   "execution_count": null,
   "id": "1e22f1f5-5e21-4b42-9fe5-e929949df6b3",
   "metadata": {},
   "outputs": [],
   "source": []
  },
  {
   "cell_type": "code",
   "execution_count": null,
   "id": "24d7572e-46cf-4a0f-ad10-faddf078b0d1",
   "metadata": {},
   "outputs": [],
   "source": []
  },
  {
   "cell_type": "code",
   "execution_count": null,
   "id": "e2ac06bc-ff14-4fbe-a1fa-62eed2a88686",
   "metadata": {},
   "outputs": [],
   "source": []
  },
  {
   "cell_type": "code",
   "execution_count": null,
   "id": "4c7737e4-a6c5-4a5c-a9d1-3ed3097809b1",
   "metadata": {},
   "outputs": [],
   "source": []
  },
  {
   "cell_type": "code",
   "execution_count": null,
   "id": "8d8442a5-d53c-4a29-bff2-ce70920dd12e",
   "metadata": {},
   "outputs": [],
   "source": []
  },
  {
   "cell_type": "code",
   "execution_count": null,
   "id": "a0b0ce87-fe6d-4589-a0b9-38296d7602e5",
   "metadata": {},
   "outputs": [],
   "source": []
  },
  {
   "cell_type": "code",
   "execution_count": null,
   "id": "89a862ac-5788-4fda-8414-997e3a2d38fd",
   "metadata": {},
   "outputs": [],
   "source": []
  },
  {
   "cell_type": "code",
   "execution_count": null,
   "id": "bd5cb885-d870-4a59-8302-198abe45af99",
   "metadata": {},
   "outputs": [],
   "source": []
  },
  {
   "cell_type": "code",
   "execution_count": null,
   "id": "360530c7-575d-41aa-8888-fb2030017e12",
   "metadata": {},
   "outputs": [],
   "source": []
  },
  {
   "cell_type": "code",
   "execution_count": null,
   "id": "22ed2878-7352-4c9b-aa65-1d1a49fd6a5b",
   "metadata": {},
   "outputs": [],
   "source": []
  },
  {
   "cell_type": "code",
   "execution_count": null,
   "id": "a93db2a4-f7fb-49d4-a221-0cb65fdf4173",
   "metadata": {},
   "outputs": [],
   "source": []
  },
  {
   "cell_type": "code",
   "execution_count": null,
   "id": "f472086d-bb27-4f51-8a9e-34f3f5aadc21",
   "metadata": {},
   "outputs": [],
   "source": []
  },
  {
   "cell_type": "code",
   "execution_count": null,
   "id": "ebdbc5d0-01af-4487-bbb4-701e1cf9520a",
   "metadata": {},
   "outputs": [],
   "source": []
  },
  {
   "cell_type": "code",
   "execution_count": null,
   "id": "e1e4d975-13c4-41c9-bf76-8762d93bdd2d",
   "metadata": {},
   "outputs": [],
   "source": []
  },
  {
   "cell_type": "code",
   "execution_count": null,
   "id": "cc74a188-dd3d-4c03-ad64-6db25aecb5c7",
   "metadata": {},
   "outputs": [],
   "source": []
  },
  {
   "cell_type": "code",
   "execution_count": null,
   "id": "b8df12c3-d9a5-4afa-910c-df3e9db64517",
   "metadata": {},
   "outputs": [],
   "source": []
  },
  {
   "cell_type": "code",
   "execution_count": null,
   "id": "2955a29e-b702-4ee1-b7de-2732d651c717",
   "metadata": {},
   "outputs": [],
   "source": []
  },
  {
   "cell_type": "code",
   "execution_count": null,
   "id": "64852397-e860-43b0-8608-af8c1ab5e4f9",
   "metadata": {},
   "outputs": [],
   "source": []
  },
  {
   "cell_type": "code",
   "execution_count": null,
   "id": "c6b1a6a3-fe00-41e7-b46f-86377698ac1e",
   "metadata": {},
   "outputs": [],
   "source": []
  },
  {
   "cell_type": "code",
   "execution_count": null,
   "id": "db8336fd-d7c7-4b33-b6b9-d8a283ff674c",
   "metadata": {},
   "outputs": [],
   "source": []
  },
  {
   "cell_type": "code",
   "execution_count": null,
   "id": "e1587424-1e9d-4967-8c8f-12a046c18859",
   "metadata": {},
   "outputs": [],
   "source": []
  },
  {
   "cell_type": "code",
   "execution_count": null,
   "id": "d180ad3a-1b00-4a84-9a53-c6559e9838e9",
   "metadata": {},
   "outputs": [],
   "source": []
  },
  {
   "cell_type": "code",
   "execution_count": null,
   "id": "df45f600-2f44-441b-9486-9e6ff43d825d",
   "metadata": {},
   "outputs": [],
   "source": []
  },
  {
   "cell_type": "code",
   "execution_count": null,
   "id": "79f8b04e-51a3-4063-829e-883ee6a321b5",
   "metadata": {},
   "outputs": [],
   "source": []
  },
  {
   "cell_type": "code",
   "execution_count": null,
   "id": "aa817fc7-f8f3-4b74-9b01-7e4f55865f62",
   "metadata": {},
   "outputs": [],
   "source": []
  },
  {
   "cell_type": "code",
   "execution_count": null,
   "id": "c45e75b3-b9d4-456a-a5e3-7d256e28789b",
   "metadata": {},
   "outputs": [],
   "source": []
  },
  {
   "cell_type": "code",
   "execution_count": null,
   "id": "47369aeb-f9e0-4615-aa01-8813ee8d0ebc",
   "metadata": {},
   "outputs": [],
   "source": []
  },
  {
   "cell_type": "code",
   "execution_count": null,
   "id": "65643bdc-7105-4a05-9c12-012ac5fed88b",
   "metadata": {},
   "outputs": [],
   "source": []
  },
  {
   "cell_type": "code",
   "execution_count": null,
   "id": "698025ff-89e3-46a2-8f0c-18ee7b4cbcd8",
   "metadata": {},
   "outputs": [],
   "source": []
  },
  {
   "cell_type": "code",
   "execution_count": null,
   "id": "9f988930-af2f-47ae-9c3a-6cb13616cd23",
   "metadata": {},
   "outputs": [],
   "source": []
  },
  {
   "cell_type": "code",
   "execution_count": null,
   "id": "39929b22-d1b7-4853-904f-025007dad88d",
   "metadata": {},
   "outputs": [],
   "source": []
  },
  {
   "cell_type": "code",
   "execution_count": null,
   "id": "7a7da481-5b76-44b0-bddf-05bde376f640",
   "metadata": {},
   "outputs": [],
   "source": []
  },
  {
   "cell_type": "code",
   "execution_count": null,
   "id": "1624ce89-6548-4ffd-9ec9-4c9b75d39d3b",
   "metadata": {},
   "outputs": [],
   "source": []
  },
  {
   "cell_type": "code",
   "execution_count": null,
   "id": "0f0278c9-159c-4662-ba69-1f3e893fc6b7",
   "metadata": {},
   "outputs": [],
   "source": []
  },
  {
   "cell_type": "code",
   "execution_count": null,
   "id": "b959b1c3-a8ba-40b6-8d49-f1e0350f731e",
   "metadata": {},
   "outputs": [],
   "source": []
  },
  {
   "cell_type": "code",
   "execution_count": null,
   "id": "8503f3ba-01a9-4152-8a12-54eedbf411db",
   "metadata": {},
   "outputs": [],
   "source": []
  },
  {
   "cell_type": "code",
   "execution_count": null,
   "id": "df6f7e76-7fb8-4140-9871-661bd169707d",
   "metadata": {},
   "outputs": [],
   "source": []
  },
  {
   "cell_type": "code",
   "execution_count": null,
   "id": "42509b90-2864-474e-af0d-f67b6357bcac",
   "metadata": {},
   "outputs": [],
   "source": []
  },
  {
   "cell_type": "code",
   "execution_count": null,
   "id": "db55903f-d09f-4a34-b610-8bed5f856733",
   "metadata": {},
   "outputs": [],
   "source": []
  },
  {
   "cell_type": "code",
   "execution_count": null,
   "id": "cb9a79b3-a1d8-4342-9c9b-5aa05ae6804c",
   "metadata": {},
   "outputs": [],
   "source": []
  },
  {
   "cell_type": "code",
   "execution_count": null,
   "id": "3cea7c96-aa8d-4b33-95c5-ad9938ee0b50",
   "metadata": {},
   "outputs": [],
   "source": []
  },
  {
   "cell_type": "code",
   "execution_count": null,
   "id": "963d2941-e8c2-4306-b431-6cae677bb56b",
   "metadata": {},
   "outputs": [],
   "source": []
  },
  {
   "cell_type": "code",
   "execution_count": null,
   "id": "de866b07-0ceb-4a55-986b-5e3112c00da6",
   "metadata": {},
   "outputs": [],
   "source": []
  },
  {
   "cell_type": "code",
   "execution_count": null,
   "id": "4c8a0020-e207-4ca3-a797-3f5436de99d0",
   "metadata": {},
   "outputs": [],
   "source": []
  },
  {
   "cell_type": "code",
   "execution_count": null,
   "id": "5efd661f-5722-4b47-984d-7f7bd42f6ef5",
   "metadata": {},
   "outputs": [],
   "source": []
  },
  {
   "cell_type": "code",
   "execution_count": null,
   "id": "cbd28e1d-1202-4253-bd6d-1fd6c7e81464",
   "metadata": {},
   "outputs": [],
   "source": []
  },
  {
   "cell_type": "code",
   "execution_count": null,
   "id": "a20efe6c-2647-468f-b4de-ce396f718e3a",
   "metadata": {},
   "outputs": [],
   "source": []
  },
  {
   "cell_type": "code",
   "execution_count": null,
   "id": "58093347-45d8-414c-b2b5-20d77385158f",
   "metadata": {},
   "outputs": [],
   "source": []
  },
  {
   "cell_type": "code",
   "execution_count": null,
   "id": "837d6dc9-b19d-4a3e-a862-d0ba5897b632",
   "metadata": {},
   "outputs": [],
   "source": []
  }
 ],
 "metadata": {
  "kernelspec": {
   "display_name": "Python 3 (ipykernel)",
   "language": "python",
   "name": "python3"
  },
  "language_info": {
   "codemirror_mode": {
    "name": "ipython",
    "version": 3
   },
   "file_extension": ".py",
   "mimetype": "text/x-python",
   "name": "python",
   "nbconvert_exporter": "python",
   "pygments_lexer": "ipython3",
   "version": "3.11.7"
  }
 },
 "nbformat": 4,
 "nbformat_minor": 5
}
