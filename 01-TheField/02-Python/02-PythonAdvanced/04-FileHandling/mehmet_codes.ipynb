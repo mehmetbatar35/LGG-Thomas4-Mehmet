{
 "cells": [
  {
   "cell_type": "code",
   "execution_count": 1,
   "id": "5d8033e4-b1e6-49fa-9a8b-b5fd8eb0e01b",
   "metadata": {
    "tags": []
   },
   "outputs": [],
   "source": [
    "filename = \"./data/data.txt\"\n",
    "my_file = open(filename, \"r\")"
   ]
  },
  {
   "cell_type": "code",
   "execution_count": 3,
   "id": "d6668c38-5605-45c1-867c-4b27e0dc41ef",
   "metadata": {
    "tags": []
   },
   "outputs": [],
   "source": [
    "my_file.close()"
   ]
  },
  {
   "cell_type": "code",
   "execution_count": 5,
   "id": "ce7a9e68-c5a7-4786-bfb4-8d0713d1fbf8",
   "metadata": {
    "tags": []
   },
   "outputs": [
    {
     "name": "stdout",
     "output_type": "stream",
     "text": [
      "Hi everyone, I'm adding sentences to the file !\n"
     ]
    }
   ],
   "source": [
    "my_file = open(filename, \"r\")\n",
    "\n",
    "print(my_file.read())\n",
    "\n",
    "my_file.close()\n"
   ]
  },
  {
   "cell_type": "code",
   "execution_count": 27,
   "id": "3a21f7e3-bb86-43f0-9bae-81d4deaa3d1d",
   "metadata": {
    "tags": []
   },
   "outputs": [
    {
     "name": "stdout",
     "output_type": "stream",
     "text": [
      "['Hi', 'everyone,', \"I'm\", 'adding', 'sentences', 'to', 'the', 'file', '!']\n"
     ]
    }
   ],
   "source": [
    "with open(filename, 'r') as my_file:\n",
    "    # print(my_file.read())\n",
    "    content = my_file.read()\n",
    "    words = content.split()\n",
    "print(words)"
   ]
  },
  {
   "cell_type": "code",
   "execution_count": 31,
   "id": "653a178e-8a0d-4bf8-ad54-e45196930037",
   "metadata": {
    "tags": []
   },
   "outputs": [],
   "source": [
    "new_filename = './data/data_new.txt'\n",
    "file = open(new_filename, 'w')\n",
    "file.write(\"Hi everyone, I'm adding sentences to the file !\")\n",
    "file.close()"
   ]
  },
  {
   "cell_type": "code",
   "execution_count": null,
   "id": "b25cb649-45bb-47f5-ae40-73939b1f46e1",
   "metadata": {},
   "outputs": [],
   "source": [
    "array = []\n",
    "\n",
    "with open(filename, 'r') as input_file:\n",
    "    with open(new_filename, 'a') as output file:\n",
    "        "
   ]
  },
  {
   "cell_type": "markdown",
   "id": "6f9ff46f-de5b-47b6-8808-fd9b2133d7f6",
   "metadata": {},
   "source": [
    "# --------------------------"
   ]
  },
  {
   "cell_type": "code",
   "execution_count": 36,
   "id": "ca0b7d0c-10ca-44bf-b665-6d9b6b2985e9",
   "metadata": {
    "tags": []
   },
   "outputs": [],
   "source": [
    "import os"
   ]
  },
  {
   "cell_type": "code",
   "execution_count": 46,
   "id": "b49f0d02-4105-45b2-a31b-80c1c7c4898a",
   "metadata": {
    "tags": []
   },
   "outputs": [
    {
     "name": "stdout",
     "output_type": "stream",
     "text": [
      "Hi everyone, I'm adding sentences to the file !HI EVERYONE, I'M ADDING SENTENCES TO THE FILE !\n"
     ]
    }
   ],
   "source": [
    "data_filename = './data/data.txt'\n",
    "new_filename = './data/data_new.txt'\n",
    "\n",
    "with open(data_filename, 'r') as data_file:\n",
    "    content = data_file.read()\n",
    "    \n",
    "capitalized_content = content.upper()\n",
    "\n",
    "with open(new_filename, 'a') as new_file:\n",
    "    new_file.write(capitalized_content)\n",
    "    \n",
    "with open(new_filename, 'r') as new_file:\n",
    "    new_content = new_file.read()\n",
    "    print(new_content)\n",
    "    "
   ]
  },
  {
   "cell_type": "code",
   "execution_count": null,
   "id": "19329116-a715-4607-b901-5c0b8a8f620c",
   "metadata": {},
   "outputs": [],
   "source": []
  },
  {
   "cell_type": "code",
   "execution_count": null,
   "id": "fcd5d456-0611-46e4-bbd3-508022ef61ee",
   "metadata": {},
   "outputs": [],
   "source": []
  },
  {
   "cell_type": "code",
   "execution_count": null,
   "id": "8390262a-7652-4c8f-ad01-c02ed971080e",
   "metadata": {},
   "outputs": [],
   "source": []
  },
  {
   "cell_type": "code",
   "execution_count": null,
   "id": "ad1a23bf-d779-484c-8d88-369ef69cee31",
   "metadata": {},
   "outputs": [],
   "source": []
  },
  {
   "cell_type": "code",
   "execution_count": null,
   "id": "8e28cb26-c629-4905-bb7e-7d1775b6ab2c",
   "metadata": {},
   "outputs": [],
   "source": []
  },
  {
   "cell_type": "code",
   "execution_count": null,
   "id": "30456fc6-c69a-4d59-935c-9fc1d0aaa2d0",
   "metadata": {},
   "outputs": [],
   "source": []
  },
  {
   "cell_type": "code",
   "execution_count": null,
   "id": "3a682bbe-81cc-4439-8699-f29be2b30bc2",
   "metadata": {},
   "outputs": [],
   "source": []
  },
  {
   "cell_type": "code",
   "execution_count": null,
   "id": "365bb0d5-9ab4-4c88-ae9c-5d29e3fcc01b",
   "metadata": {},
   "outputs": [],
   "source": []
  },
  {
   "cell_type": "code",
   "execution_count": null,
   "id": "ee609bcb-7118-440b-b406-79cb3e41e49d",
   "metadata": {},
   "outputs": [],
   "source": []
  },
  {
   "cell_type": "code",
   "execution_count": null,
   "id": "58d64234-703c-42d1-a742-c9b0a39a7d70",
   "metadata": {},
   "outputs": [],
   "source": []
  },
  {
   "cell_type": "code",
   "execution_count": null,
   "id": "dcb78575-f170-4396-a19e-a2836d916017",
   "metadata": {},
   "outputs": [],
   "source": []
  }
 ],
 "metadata": {
  "kernelspec": {
   "display_name": "Python 3 (ipykernel)",
   "language": "python",
   "name": "python3"
  },
  "language_info": {
   "codemirror_mode": {
    "name": "ipython",
    "version": 3
   },
   "file_extension": ".py",
   "mimetype": "text/x-python",
   "name": "python",
   "nbconvert_exporter": "python",
   "pygments_lexer": "ipython3",
   "version": "3.11.7"
  }
 },
 "nbformat": 4,
 "nbformat_minor": 5
}
