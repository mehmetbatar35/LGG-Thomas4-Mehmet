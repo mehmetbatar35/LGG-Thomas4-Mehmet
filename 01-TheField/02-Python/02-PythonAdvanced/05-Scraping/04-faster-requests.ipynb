{
 "cells": [
  {
   "cell_type": "markdown",
   "metadata": {},
   "source": [
    "# Make your requests faster\n",
    "\n",
    "When you start scraping web-pages or requesting APIs, you will be facing a problem when doing a lot of requests: this is really slow!\n",
    "\n",
    "It's because python is slow! You could say, well it should not be. Let's see how we can speed things up!\n",
    "\n",
    "## Measure performances\n",
    "\n",
    "In this notebook we will need to track how much time some code is taking to execute.\n",
    "To make things easier, we will create a simple decorator that will print the number of micro-seconds a function takes to execute.\n",
    "\n",
    "A good opportonity to practice decorators in a practical example!\n",
    "\n",
    "*Note that you need python3.3 or higher.*"
   ]
  },
  {
   "cell_type": "code",
   "execution_count": 21,
   "metadata": {},
   "outputs": [
    {
     "name": "stdout",
     "output_type": "stream",
     "text": [
      "example took 2.0 sec\n"
     ]
    }
   ],
   "source": [
    "import time\n",
    "\n",
    "def print_timing(func):\n",
    "    '''Create a timing decorator function use @print_timing just above the function you want to time.'''\n",
    "\n",
    "    def wrapper(*arg):\n",
    "        start = time.perf_counter()\n",
    "        \n",
    "        # Run the function decorated\n",
    "        result = func(*arg)\n",
    "\n",
    "        end = time.perf_counter()\n",
    "        execution_time = round((end - start), 2)\n",
    "        print(f'{func.__name__} took {execution_time} sec')\n",
    "        return result\n",
    "\n",
    "    return wrapper\n",
    "\n",
    "\n",
    "@print_timing\n",
    "def example():\n",
    "    time.sleep(2)\n",
    "\n",
    "\n",
    "example()"
   ]
  },
  {
   "cell_type": "markdown",
   "metadata": {},
   "source": [
    "## The API\n",
    "\n",
    "For this example, we will use the [quotable.io](https://api.quotable.io) API. It's an online API you can use to generate random quote.\n",
    "\n",
    "But feel free to replace `api_url` value with any API you'd like."
   ]
  },
  {
   "cell_type": "code",
   "execution_count": 3,
   "metadata": {
    "tags": []
   },
   "outputs": [],
   "source": [
    "api_url = \"https://api.quotable.io/random\""
   ]
  },
  {
   "cell_type": "markdown",
   "metadata": {},
   "source": [
    "## The \"classic\" way\n",
    "\n",
    "If you start playing with requests, your should probably have something like this:"
   ]
  },
  {
   "cell_type": "code",
   "execution_count": 13,
   "metadata": {
    "tags": []
   },
   "outputs": [
    {
     "name": "stdout",
     "output_type": "stream",
     "text": [
      "The minute you settle for less than you deserve, you get even less than you settled for.\n",
      "The virtue of justice consists in moderation, as regulated by wisdom.\n",
      "I am fond of pigs. Dogs look up to us. Cats look down on us. Pigs treat us as equals.\n",
      "Love has no age, no limit; and no death.\n",
      "He that respects himself is safe from others; he wears a coat of mail that none can pierce.\n",
      "Trying to sneak a fastball past Hank Aaron is like trying to sneak the sunrise past a rooster.\n",
      "The really unhappy person is the one who leaves undone what they can do, and starts doing what they don't understand; no wonder they come to grief.\n",
      "Reason and free inquiry are the only effectual agents against error.\n",
      "Never interrupt your enemy when he is making a mistake.\n",
      "All men have a sweetness in their life. That is what helps them go on. It is towards that they turn when they feel too worn out.\n",
      "The only way to tell the truth is to speak with kindness. Only the words of a loving man can be heard.\n",
      "There is no scarcity of opportunity to make a living at what you love; there's only scarcity of resolve to make it happen.\n",
      "Blessed are the hearts that can bend; they shall never be broken.\n",
      "There are people who have money and people who are rich.\n",
      "Friendship needs no words - it is solitude delivered from the anguish of loneliness.\n",
      "Do you know what my favorite part of the game is? The opportunity to play.\n",
      "Think like a man of action; act like a man of thought.\n",
      "It's easier to resist at the beginning than at the end.\n",
      "Always bear in mind that your own resolution to succeed is more important than any other.\n",
      "To command is to serve, nothing more and nothing less.\n",
      "Read as you taste fruit or savor wine, or enjoy friendship, love or life.\n",
      "Whoever is happy will make others happy, too.\n",
      "True happiness arises, in the first place, from the enjoyment of oneself, and in the next, from the friendship and conversation of a few select companions.\n",
      "But friendship is precious, not only in the shade, but in the sunshine of life, and thanks to a benevolent arrangement the greater part of life is sunshine.\n",
      "Even if you're on the right track, you'll get run over if you just sit there.\n",
      "For it was not into my ear you whispered, but into my heart. It was not my lips you kissed, but my soul.\n",
      "Persuasion is often more effectual than force.\n",
      "What do we live for, if it is not to make life less difficult for each other?\n",
      "Be kind whenever possible. It is always possible.\n",
      "Who sows virtue reaps honor.\n",
      "See the positive side, the potential, and make an effort.\n",
      "Always do your best. What you plant now, you will harvest later.\n",
      "Reality leaves a lot to the imagination.\n",
      "The doctor of the future will give no medicine, but will interest her or his patients in the care of the human frame, in a proper diet, and in the cause and prevention of disease.\n",
      "Coming together is a beginning; keeping together is progress; working together is success.\n",
      "The art of progress is to preserve order amid change, and to preserve change amid order.\n",
      "To lead people walk behind them.\n",
      "Always be yourself, express yourself, have faith in yourself, do not go out and look for a successful personality and duplicate it.\n",
      "Friendship is almost always the union of a part of one mind with the part of another; people are friends in spots.\n",
      "The sum of wisdom is that time is never lost that is devoted to work.\n",
      "A man is great by deeds, not by birth.\n",
      "The winner ain't the one with the fastest car it's the one who refuses to lose.\n",
      "Sometimes our fate resembles a fruit tree in winter. Who would think that those branches would turn green again and blossom, but we hope it, we know it.\n",
      "Friendship with oneself is all important, because without it one cannot be friends with anyone else in the world.\n",
      "It does not matter how slowly you go as long as you do not stop.\n",
      "Success is not the key to happiness. Happiness is the key to success. If you love what you are doing, you will be successful.\n",
      "Technology is destructive only in the hands of people who do not realize that they are one and the same process as the universe.\n",
      "You can't stop the waves, but you can learn to surf.\n",
      "Love doesn't make the world go round; love is what makes the ride worthwhile.\n",
      "Be kind whenever possible. It is always possible.\n"
     ]
    }
   ],
   "source": [
    "import requests\n",
    "\n",
    "\n",
    "def basic_request(url: str):\n",
    "    response = requests.get(url)\n",
    "    response_json = response.json()\n",
    "    print(response_json[\"content\"])\n",
    "\n",
    "\n",
    "# @print_timing\n",
    "def basic_loop_request(url: str):\n",
    "    # Query 50 times the API\n",
    "    for _ in range(50):\n",
    "        basic_request(url)\n",
    "\n",
    "\n",
    "basic_loop_request(api_url)"
   ]
  },
  {
   "cell_type": "markdown",
   "metadata": {},
   "source": [
    "### Results\n",
    "\n",
    "On my machine it took **17.06 sec for 50 requests**. \n",
    "\n",
    "Pretty slow right? But why is that?\n",
    "\n",
    "Each time you make a request, your computer needs to create a new \"session\", format your request, send it and wait to receive the response before doing it again with the next request."
   ]
  },
  {
   "cell_type": "markdown",
   "metadata": {},
   "source": [
    "## The \"session\" way\n",
    "\n",
    "To speed this, we can use a **\"session\"** that will be share by all the requests.\n",
    "\n",
    "You can picture it as a postman that knows you already, so he knows which bell to ring, where is the mailbox,... Instead of having to search for those each time."
   ]
  },
  {
   "cell_type": "code",
   "execution_count": 12,
   "metadata": {
    "tags": []
   },
   "outputs": [
    {
     "name": "stdout",
     "output_type": "stream",
     "text": [
      "All achievements, all earned riches, have their beginning in an idea.\n",
      "The happiness that is genuinely satisfying is accompanied by the fullest exercise of our faculties and the fullest realization of the world in which we live.\n",
      "The cautious seldom err.\n",
      "Excellence is not a skill. It is an attitude.\n",
      "It all depends on how we look at things, and not how they are in themselves.\n",
      "The way a team plays as a whole determines its success. You may have the greatest bunch of individual stars in the world, but if they don't play together, the club won't be worth a dime.\n",
      "To be fully alive, fully human, and completely awake is to be continually thrown out of the nest.\n",
      "Wisdom is oftentimes nearer when we stoop than when we soar.\n",
      "There is some self-interest behind every friendship. There is no friendship without self-interests. This is a bitter truth.\n",
      "An appeaser is one who feeds a crocodile, hoping it will eat him last.\n",
      "A friend is a gift you give yourself.\n",
      "It is one of the severest tests of friendship to tell your friend his faults. So to love a man that you cannot bear to see a stain upon him, and to speak painful truth through loving words, that is friendship.\n",
      "I have always found that mercy bears richer fruits than strict justice.\n",
      "More often than not, anger is actually an indication of weakness rather than of strength.\n",
      "Listen to what you know instead of what you fear.\n",
      "Positive thinking will let you do everything better than negative thinking will.\n",
      "Music is a higher revelation than all wisdom and philosophy.\n",
      "Friendship is also about liking a person for their failings, their weakness. It's also about mutual help, not about exploitation.\n",
      "Life is like riding a bicycle. To keep your balance you must keep moving.\n",
      "All of our technology is completely unnecessary to a happy life.\n",
      "There are only two ways to live your life. One is as though nothing is a miracle. The other is as though everything is a miracle.\n",
      "Reason and free inquiry are the only effectual agents against error.\n",
      "Tragedy is a tool for the living to gain wisdom, not a guide by which to live.\n",
      "The most important thing is transforming our minds, for a new way of thinking, a new outlook: we should strive to develop a new inner world.\n",
      "The only Zen you find on the tops of mountains is the Zen you bring up there.\n",
      "Never find fault with the absent.\n",
      "Whatever happens, take responsibility.\n",
      "Life is not a problem to be solved, but a reality to be experienced.\n",
      "Ever tried. Ever failed. No matter. Try Again. Fail again. Fail better.\n",
      "No pessimist ever discovered the secrets of the stars, or sailed to an uncharted land, or opened a new heaven to the human spirit.\n",
      "Impossibilities are merely things which we have not yet learned.\n",
      "Real magic in relationships means an absence of judgement of others.\n",
      "One of the most beautiful qualities of true friendship is to understand and to be understood.\n",
      "To profit from good advice requires more wisdom than to give it.\n",
      "Real success is finding your lifework in the work that you love.\n",
      "All is flux; nothing stays still.\n",
      "It is time to remember that old wisdom our soldiers will never forget: that whether we are black or brown or white, we all bleed the same red blood of patriots, we all enjoy the same glorious freedoms, and we all salute the same great American Flag.\n",
      "Minds are like parachutes. They only function when open.\n",
      "Trying to sneak a fastball past Hank Aaron is like trying to sneak the sunrise past a rooster.\n",
      "Just as much as we see in others, we have in ourselves.\n",
      "The right way is not always the popular and easy way. Standing for right when it is unpopular is a true test of moral character.\n",
      "Life is what happens to you while you're busy making other plans.\n",
      "He who lives in harmony with himself lives in harmony with the universe.\n",
      "Let us sacrifice our today so that our children can have a better tomorrow.\n",
      "Applause is a receipt, not a bill.\n",
      "If you do not express your own original ideas, if you do not listen to your own being, you will have betrayed yourself.\n",
      "Friendship is an arrangement by which we undertake to exchange small favors for big ones.\n",
      "The best thing in every noble dream is the dreamer...\n",
      "The rule of friendship means there should be mutual sympathy between them, each supplying what the other lacks and trying to benefit the other, always using friendly and sincere words.\n",
      "Imagination disposes of everything; it creates beauty, justice, and happiness, which are everything in this world.\n"
     ]
    }
   ],
   "source": [
    "from requests import Session\n",
    "\n",
    "\n",
    "def session_request(url: str, session: Session):\n",
    "    # Instead of using request.get, we use our session\n",
    "    response = session.get(url)\n",
    "    response_json = response.json()\n",
    "    print(response_json[\"content\"])\n",
    "\n",
    "\n",
    "# @print_timing\n",
    "def session_loop_request(url: str):\n",
    "    # Create shared session for all of your requests\n",
    "    with Session() as session:\n",
    "        # Query 50 times the API\n",
    "        for _ in range(50):\n",
    "            session_request(url, session)\n",
    "\n",
    "\n",
    "session_loop_request(api_url)"
   ]
  },
  {
   "cell_type": "markdown",
   "metadata": {},
   "source": [
    "### Results\n",
    "\n",
    "It took me **5.99 sec for 50 requests**. That's better!\n",
    "\n",
    "And as you can see, I didn't change that much in the code."
   ]
  },
  {
   "cell_type": "markdown",
   "metadata": {},
   "source": [
    "## The \"Async\" way\n",
    "\n",
    "If you need even more performances, you will need to use [AsyncIo](https://docs.python.org/3/library/asyncio.html).\n",
    "\n",
    "This is a library to allow you to run asynchronous code.\n",
    "\n",
    "Why is that more efficiant? Well, when you send a request you need to wait for the response. And during the waiting time, our computer does nothing.\n",
    "If you count all the time the computer is just \"waiting\" on 50 or more requests, you will be surprised to see that most of the computing time is just waiting for the server to respond.\n",
    "\n",
    "[AsyncIo](https://docs.python.org/3/library/asyncio.html) allow you to bypass that.\n",
    "\n",
    "But as always, it has a cost: complexity.\n",
    "\n",
    "Making your code async will complixify the code a lot and make the debugging not a pleasant experience. Also, you will go so fast that you could be banned by the server.\n",
    "\n",
    "My advice? Use it only if you need it.\n",
    "\n",
    "I will show you a simple example but you want to understand it better, I really advice you **[this video](https://www.youtube.com/watch?v=qAh5dDODJ5k)**!\n",
    "\n",
    "### Requirements\n",
    "In order to simplify a bit the code, I will use [httpx](https://www.python-httpx.org/) a python library that is working the same way as the `requests` module but with few helpers for async."
   ]
  },
  {
   "cell_type": "code",
   "execution_count": 16,
   "metadata": {
    "tags": []
   },
   "outputs": [
    {
     "name": "stdout",
     "output_type": "stream",
     "text": [
      "Requirement already satisfied: httpx in c:\\users\\mehme\\anaconda3\\lib\\site-packages (0.26.0)\n",
      "Requirement already satisfied: anyio in c:\\users\\mehme\\anaconda3\\lib\\site-packages (from httpx) (4.2.0)\n",
      "Requirement already satisfied: certifi in c:\\users\\mehme\\anaconda3\\lib\\site-packages (from httpx) (2024.6.2)\n",
      "Requirement already satisfied: httpcore==1.* in c:\\users\\mehme\\anaconda3\\lib\\site-packages (from httpx) (1.0.2)\n",
      "Requirement already satisfied: idna in c:\\users\\mehme\\anaconda3\\lib\\site-packages (from httpx) (3.4)\n",
      "Requirement already satisfied: sniffio in c:\\users\\mehme\\anaconda3\\lib\\site-packages (from httpx) (1.3.0)\n",
      "Requirement already satisfied: h11<0.15,>=0.13 in c:\\users\\mehme\\anaconda3\\lib\\site-packages (from httpcore==1.*->httpx) (0.14.0)\n"
     ]
    }
   ],
   "source": [
    "!pip install httpx\n",
    "\n"
   ]
  },
  {
   "cell_type": "markdown",
   "metadata": {},
   "source": [
    "### Warning!\n",
    "This code won't work in jupyter notebook, there are subtilities for async in jupyter notebook. See [this thread](https://stackoverflow.com/questions/47518874/how-do-i-run-python-asyncio-code-in-a-jupyter-notebook) for more informations.\n",
    "\n",
    "To make it simpler, I will put this code in a .py file and run it in command line:"
   ]
  },
  {
   "cell_type": "markdown",
   "metadata": {},
   "source": [
    "```python\n",
    "from httpx import AsyncClient\n",
    "import asyncio\n",
    "import time\n",
    "\n",
    "\n",
    "api_url = \"https://api.quotable.io/random\"\n",
    "\n",
    "\n",
    "async def session_request_async(url: str, session: AsyncClient):\n",
    "    # Instead of using request.get, we use our session\n",
    "    response = await session.get(url)\n",
    "    response_json = response.json()\n",
    "    print(response_json[\"content\"])\n",
    "    return response_json\n",
    "\n",
    "\n",
    "async def session_loop_request_async(url: str):\n",
    "    # Create shared session for all of your requests\n",
    "    async with AsyncClient() as session:\n",
    "        # Create a list of empty tasks\n",
    "        tasks = []\n",
    "        # Query 50 times the API\n",
    "        for _ in range(50):\n",
    "            # Add a request to tasks\n",
    "            tasks.append(\n",
    "                asyncio.create_task(\n",
    "                    session_request_async(url, session)        \n",
    "                )\n",
    "            )\n",
    "        # Now that all the tasks are registred, run them\n",
    "        responses = await asyncio.gather(*tasks)\n",
    "            \n",
    "            \n",
    "\n",
    "\n",
    "start = time.perf_counter()\n",
    "\n",
    "# We need to use asyncio.run to run the async function\n",
    "asyncio.run(session_loop_request_async(api_url))\n",
    "\n",
    "end = time.perf_counter()\n",
    "execution_time = round((end - start), 2)\n",
    "print(f'session_loop_request_async took {execution_time} sec')\n",
    "```"
   ]
  },
  {
   "cell_type": "code",
   "execution_count": 56,
   "metadata": {},
   "outputs": [
    {
     "name": "stdout",
     "output_type": "stream",
     "text": [
      "Don't cry because it's over. Smile because it happened.\n",
      "Our kindness may be the most persuasive argument for that which we believe.\n",
      "The pessimist complains about the wind; the optimist expects it to change; the realist adjusts the sails.\n",
      "There are two ways to slide easily through life: to believe everything or to doubt everything; both ways save us from thinking.\n",
      "It is a common experience that a problem difficult at night is resolved in the morning after the committee of sleep has worked on it.\n",
      "Optimism is the faith that leads to achievement. Nothing can be done without hope and confidence.\n",
      "Obstacles are those frightful things you see when you take your eyes off your goal.\n",
      "Irony is the gaiety of reflection and the joy of wisdom.\n",
      "Twenty years from now you will be more disappointed by the things that you didn't do than by the ones you did do.\n",
      "An idea that is developed and put into action is more important than an idea that exists only as an idea.\n",
      "The best and most beautiful things in the world cannot be seen, nor touched... but are felt in the heart.\n",
      "Success is not final; failure is not fatal: it is the courage to continue that counts.\n",
      "The truth of the matter is that you always know the right thing to do. The hard part is doing it.\n",
      "We should all be thankful for those people who rekindle the inner spirit.\n",
      "The best thing about the future is that it only comes one day at a time.\n",
      "Good people are good because they've come to wisdom through failure. We get very little wisdom from success, you know.\n",
      "I love my past. I love my present. I'm not ashamed of what I've had, and I'm not sad because I have it no longer.\n",
      "First-rate people hire first-rate people; second-rate people hire third-rate people.\n",
      "Friendship is almost always the union of a part of one mind with the part of another; people are friends in spots.\n",
      "One of the tests of leadership is the ability to recognize a problem before it becomes an emergency.\n",
      "Technology made large populations possible; large populations now make technology indispensable.\n",
      "Quality is never an accident; it is always the result of intelligent effort.\n",
      "Only I can change my life. No one can do it for me.\n",
      "Know what's important and what isn't. Have the wisdom to know the right thing to do, the integrity to do it, the character to stand up to those who don't, and the courage to stop those who won't.\n",
      "Of course there is no formula for success except perhaps an unconditional acceptance of life and what it brings.\n",
      "Sports do not build character. They reveal it.\n",
      "It is not a lack of love, but a lack of friendship that makes unhappy marriages.\n",
      "Life is 10% what happens to you and 90% how you react to it.\n",
      "The most complicated achievements of thought are possible without the assistance of consciousness.\n",
      "The truest greatness lies in being kind, the truest wisdom in a happy mind.\n",
      "Football is football and talent is talent. But the mindset of your team makes all the difference.\n",
      "There surely is in human nature an inherent propensity to extract all the good out of all the evil.\n",
      "First say to yourself what you would be; and then do what you have to do.\n",
      "Of all possessions a friend is the most precious.\n",
      "The only way to make sense out of change is to plunge into it, move with it, and join the dance.\n",
      "Trust yourself. You know more than you think you do.\n",
      "Thousands of candles can be lighted from a single candle, and the life of the candle will not be shortened. Happiness never decreases by being shared.\n",
      "What you do today can improve all your tomorrows.\n",
      "This is the final test of a gentleman: his respect for those who can be of no possible value to him.\n",
      "A lot of times people look at the negative side of what they feel they can't do. I always look on the positive side of what I can do.\n",
      "Friends... they cherish one another's hopes. They are kind to one another's dreams.\n",
      "If the single man plant himself indomitably on his instincts, and there abide, the huge world will come round to him.\n",
      "We can only learn to love by loving.\n",
      "There are people who have money and people who are rich.\n",
      "No day in which you learn something is a complete loss.\n",
      "Let us be grateful to people who make us happy; they are the charming gardeners who make our souls blossom.\n",
      "Truth, and goodness, and beauty are but different faces of the same all.\n",
      "Adversity has the effect of eliciting talents, which in prosperous circumstances would have lain dormant.\n",
      "When you are content to be simply yourself and don't compare or compete, everybody will respect you.\n",
      "Happiness does not come from having much, but from being attached to little.\n",
      "session_loop_request_async took 0.8 sec\n"
     ]
    }
   ],
   "source": [
    "!python3 ./assets/async_requests.py"
   ]
  },
  {
   "cell_type": "markdown",
   "metadata": {},
   "source": [
    "### Results\n",
    "It only took me **0.8 sec for 50 requests**! That's impressive.\n",
    "\n",
    "But as you can see, it is harder to write, structure and debug. So make sure you **really** need it if you consider using this method."
   ]
  },
  {
   "cell_type": "markdown",
   "metadata": {},
   "source": [
    "## Summary\n",
    "\n",
    "If we gather all our results:\n",
    "\n",
    "| Method                     | Execution time for 50 requests |\n",
    "|----------------------------|--------------------------------|\n",
    "| `requests.get` loop        | 17.06 sec                  |\n",
    "| `requests` with `Session`  | 5.99 sec                   |\n",
    "| `httpx` with `AsyncClient` | 0.8 sec                   |"
   ]
  },
  {
   "cell_type": "markdown",
   "metadata": {},
   "source": []
  }
 ],
 "metadata": {
  "kernelspec": {
   "display_name": "Python 3 (ipykernel)",
   "language": "python",
   "name": "python3"
  },
  "language_info": {
   "codemirror_mode": {
    "name": "ipython",
    "version": 3
   },
   "file_extension": ".py",
   "mimetype": "text/x-python",
   "name": "python",
   "nbconvert_exporter": "python",
   "pygments_lexer": "ipython3",
   "version": "3.11.7"
  },
  "vscode": {
   "interpreter": {
    "hash": "b460384b52104c1e5b9cf54bee46a255d22b2bef338f75ac4ad5d48196028d3c"
   }
  }
 },
 "nbformat": 4,
 "nbformat_minor": 4
}
