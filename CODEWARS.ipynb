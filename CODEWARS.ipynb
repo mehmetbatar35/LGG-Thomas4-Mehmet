{
 "cells": [
  {
   "cell_type": "code",
   "execution_count": 3,
   "metadata": {},
   "outputs": [
    {
     "name": "stdout",
     "output_type": "stream",
     "text": [
      "no one likes this\n",
      "Peter \"likes this\"\n"
     ]
    }
   ],
   "source": [
    "def likes(names):\n",
    "    n = len(names) \n",
    "    if n == 0:\n",
    "        return \"no one likes this\"\n",
    "    elif n == 1:\n",
    "        return f'{names[0]} \"likes this\"'\n",
    "    elif n == 2:\n",
    "        return f'{names[0]} and {names[1]} like this'\n",
    "    elif n == 3:\n",
    "        return f'{names[0]}, {names[1]} and {names[2]} like this'\n",
    "    else:\n",
    "        return f'{names[0]}, {names[1]} and  2 others like this'\n",
    "\n",
    "\n",
    "\n",
    "a = []          \n",
    "b = [\"Peter\"]           \n",
    "\n",
    "print(likes(a))\n",
    "print(likes(b)) \n"
   ]
  },
  {
   "cell_type": "code",
   "execution_count": 4,
   "metadata": {},
   "outputs": [],
   "source": [
    "def likes(names):\n",
    "    if len(names) == 0:\n",
    "        return \"no one likes this\"\n",
    "    elif len(names) <= 3:\n",
    "        return ', '.join(names[:-1]) + ' and ' + names[-1] + ' like this' if len(names) > 1 else names[0] + ' likes this'\n",
    "    else:\n",
    "        return ', '.join(names[:2]) + ' and ' + str(len(names) - 2) + ' others like this'"
   ]
  },
  {
   "cell_type": "code",
   "execution_count": 21,
   "metadata": {},
   "outputs": [
    {
     "name": "stdout",
     "output_type": "stream",
     "text": [
      "655543221\n"
     ]
    }
   ],
   "source": [
    "def descending_order(num):\n",
    "    num_str = str(num)\n",
    "    new_list = sorted(num_str, reverse = True)\n",
    "    return int(''.join(new_list))\n",
    "\n",
    "\n",
    "print(descending_order(654553212))   \n",
    "\n"
   ]
  },
  {
   "cell_type": "code",
   "execution_count": 25,
   "metadata": {},
   "outputs": [
    {
     "name": "stdout",
     "output_type": "stream",
     "text": [
      "[1, 2, 3, 4]\n"
     ]
    }
   ],
   "source": [
    "def between(a,b):\n",
    "    x = []\n",
    "    if a > b :\n",
    "        for i in range(b, a + 1):\n",
    "            x.append(i)\n",
    "    else:\n",
    "        for i in range(a, b + 1):\n",
    "            x.append(i)\n",
    "    return x\n",
    "    \n",
    "print(between(1, 4))"
   ]
  },
  {
   "cell_type": "code",
   "execution_count": 2,
   "metadata": {},
   "outputs": [
    {
     "name": "stdout",
     "output_type": "stream",
     "text": [
      "[77, 42, 19, 5, 2]\n"
     ]
    }
   ],
   "source": [
    "a = [19, 5, 42, 2, 77]\n",
    "\n",
    "a.sort(reverse=True)\n",
    "\n",
    "print(a)"
   ]
  },
  {
   "cell_type": "code",
   "execution_count": 3,
   "metadata": {},
   "outputs": [
    {
     "name": "stdout",
     "output_type": "stream",
     "text": [
      "7\n"
     ]
    }
   ],
   "source": [
    "def sum_two_smallest_numbers(numbers):\n",
    "    #your code here\n",
    "    numbers.sort()\n",
    "    \n",
    "    print(int(numbers[0] + numbers[1]))\n",
    "\n",
    "sum_two_smallest_numbers([19, 5, 42, 2, 77])"
   ]
  }
 ],
 "metadata": {
  "kernelspec": {
   "display_name": "Python 3",
   "language": "python",
   "name": "python3"
  },
  "language_info": {
   "codemirror_mode": {
    "name": "ipython",
    "version": 3
   },
   "file_extension": ".py",
   "mimetype": "text/x-python",
   "name": "python",
   "nbconvert_exporter": "python",
   "pygments_lexer": "ipython3",
   "version": "3.12.3"
  }
 },
 "nbformat": 4,
 "nbformat_minor": 2
}
