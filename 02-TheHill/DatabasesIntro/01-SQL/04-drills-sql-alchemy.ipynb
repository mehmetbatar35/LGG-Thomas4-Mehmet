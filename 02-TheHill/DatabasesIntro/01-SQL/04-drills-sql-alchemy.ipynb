{
 "cells": [
  {
   "cell_type": "markdown",
   "metadata": {
    "id": "UGmFF6jc3L3q"
   },
   "source": [
    "# SQL Alchemy: Drill\n",
    "\n",
    "We will create a small database that contains quotes from authors and the name of the author. For this exercise, we will use `SQLite` which is very easy to implement. But don't forget that the advantage of ORMs is that they can be used in the same way, no matter what the database."
   ]
  },
  {
   "cell_type": "markdown",
   "metadata": {
    "id": "6mlY8-GS48_p"
   },
   "source": [
    "## What Is SQLite?  \n",
    "\n",
    "[SQLite](https://www.sqlite.org/index.html) is a C-language library that implements a small, fast, self-contained, high-reliability, full-featured, SQL database engine. SQLite is the most used database engine in the world. It is built into all mobile phones and most computers and comes bundled inside countless other applications that people use every day."
   ]
  },
  {
   "cell_type": "markdown",
   "metadata": {
    "id": "139VJ7Jr5uhL"
   },
   "source": [
    "The imports: <p style=\"color:red;\"><b >⚠️ You must have SQL_Alchemy version 1.4 or higher</b></p>\n",
    "\n",
    "We have already imported some helpful modules to approach the drill. Don't forget to check the documentation to review some of them as needed. "
   ]
  },
  {
   "cell_type": "code",
   "execution_count": 2,
   "metadata": {
    "id": "Bv03iT3758eQ"
   },
   "outputs": [],
   "source": [
    "# !pip install sqlalchemy==1.4"
   ]
  },
  {
   "cell_type": "code",
   "execution_count": 3,
   "metadata": {
    "id": "XXUNjQ0jiy65"
   },
   "outputs": [],
   "source": [
    "from sqlalchemy import create_engine\n",
    "import datetime as dt\n",
    "from sqlalchemy import Column, Date, Integer, Text, create_engine, inspect\n",
    "from sqlalchemy.orm import sessionmaker"
   ]
  },
  {
   "cell_type": "markdown",
   "metadata": {
    "id": "ylb0QujzdsUm"
   },
   "source": [
    "## ORM configuration\n",
    "---"
   ]
  },
  {
   "cell_type": "markdown",
   "metadata": {
    "id": "0oSJE3yCZ9zS"
   },
   "source": [
    "**1. Create an `engine` variable that contains an instance of `create_engine()`.**  \n",
    " \n",
    "You must specify the type of database, in this case sqlite, and specify the path to the database `/content/data.db`. *(You can put the path you want if you don't use Google Colab)* `create_engine()` will create the data.db file if it does not exist."
   ]
  },
  {
   "cell_type": "code",
   "execution_count": 4,
   "metadata": {},
   "outputs": [
    {
     "name": "stdout",
     "output_type": "stream",
     "text": [
      "c:\\Users\\mehme\\becode---\\LGG-Thomas4-Mehmet\\02-TheHill\\DatabasesIntro\\01-SQL\n"
     ]
    }
   ],
   "source": [
    "import os\n",
    "print(os.getcwd())\n"
   ]
  },
  {
   "cell_type": "code",
   "execution_count": 5,
   "metadata": {
    "id": "lT1hwcOpP8IY"
   },
   "outputs": [],
   "source": [
    "# Your code here\n",
    "\n",
    "engine = create_engine('sqlite:///data/drills.db')"
   ]
  },
  {
   "cell_type": "markdown",
   "metadata": {
    "id": "UTRefMob2CDy"
   },
   "source": [
    "**2. Create a `mapper_registry` variable which contains an instance of `registry()`.**"
   ]
  },
  {
   "cell_type": "code",
   "execution_count": 6,
   "metadata": {},
   "outputs": [],
   "source": [
    "# Your code here\n",
    "from sqlalchemy.orm import registry\n",
    "\n",
    "mapper_registry = registry()\n"
   ]
  },
  {
   "cell_type": "markdown",
   "metadata": {
    "id": "wxWjmbZAa3gq"
   },
   "source": [
    "**3. Create a `Base` variable which contains an instance of `mapper_registry.generate_base()`.**  \n",
    "\n",
    "This method allows to manage and create the models that we will use later."
   ]
  },
  {
   "cell_type": "code",
   "execution_count": 7,
   "metadata": {
    "id": "jMvofMmmP_7D"
   },
   "outputs": [],
   "source": [
    "# Your code here\n",
    "\n",
    "Base = mapper_registry.generate_base()"
   ]
  },
  {
   "cell_type": "markdown",
   "metadata": {
    "id": "pRe0HaEeb1sV"
   },
   "source": [
    "**4. Create a `Maker` variable that contains an instance of `sessionmaker()`.**  \n",
    "\n",
    "This class allows us to manage transactions with the database."
   ]
  },
  {
   "cell_type": "code",
   "execution_count": 8,
   "metadata": {
    "id": "Myb-10BVQHl9"
   },
   "outputs": [],
   "source": [
    "# Your code here\n",
    "from sqlalchemy.orm import sessionmaker\n",
    "\n",
    "Maker = sessionmaker(bind = engine)\n",
    "\n"
   ]
  },
  {
   "cell_type": "markdown",
   "metadata": {
    "id": "6Xhdtl4Jb6w2"
   },
   "source": [
    "**5. Create a `session` variable.**  \n",
    "\n",
    "This variable contains an instance of `Maker` with the parameter `bind` which has the value `engine`."
   ]
  },
  {
   "cell_type": "code",
   "execution_count": 9,
   "metadata": {
    "id": "q86kcOp0QtgG"
   },
   "outputs": [],
   "source": [
    "# Your code here\n",
    "\n",
    "session = Maker()"
   ]
  },
  {
   "cell_type": "markdown",
   "metadata": {
    "id": "VY9PhgFedzF8"
   },
   "source": [
    "## Creation of the model\n",
    "---"
   ]
  },
  {
   "cell_type": "markdown",
   "metadata": {
    "id": "eoDyzNBcYfJk"
   },
   "source": [
    "**6. Create a `class Quotation` which inherits from the previously created `Base` class.**\n",
    "\n",
    "This class will have 4 attributes: \n",
    "\n",
    "- **\\_\\_tablename\\_\\_**: which contains the name of the `quotation` table that we are going to use.\n",
    "\n",
    "- **id**: which has the method `Column`. This column will be an `Integer` attribute and will have the `primary_key` attribute set to `True`\n",
    "\n",
    "- **quote_quotation**: which has the method `Column` which will have an attribute `Text` and the attribute `nullable` set to `False`\n",
    "\n",
    "- **quote_author**: which has the `Column` method and will have a `Text` attribute and the `nullable` attribute set to `False`\n",
    "\n"
   ]
  },
  {
   "cell_type": "code",
   "execution_count": 10,
   "metadata": {
    "id": "h-wbmi-eT6iv"
   },
   "outputs": [],
   "source": [
    "# Your code\n",
    "\n",
    "\n",
    "class Quotation(Base):\n",
    "    __tablename__ = 'quotation'\n",
    "    id = Column(Integer, primary_key = True)\n",
    "    quote_quotation = Column(Text, nullable = False)\n",
    "    quote_author = Column(Text, nullable = False)\n"
   ]
  },
  {
   "cell_type": "markdown",
   "metadata": {
    "id": "ptgjvCWkpvjt"
   },
   "source": [
    "**7. Create the table using the method `Base.metadata.create_all()`.**  \n",
    "Assign the `engine` value to the bind `parameter`."
   ]
  },
  {
   "cell_type": "code",
   "execution_count": 11,
   "metadata": {
    "id": "lKrneBSppt3M"
   },
   "outputs": [],
   "source": [
    "# Your code\n",
    "Base.metadata.create_all(bind=engine)"
   ]
  },
  {
   "cell_type": "markdown",
   "metadata": {
    "id": "6WagPpwseVEz"
   },
   "source": [
    "## The transactions\n",
    "---\n",
    "\n",
    "### Create"
   ]
  },
  {
   "cell_type": "markdown",
   "metadata": {
    "id": "fEhrlDXGeat9"
   },
   "source": [
    "**8. Create a varible `new_quotation` that contains an instance of `Quotation`.** \n",
    "\n",
    "For the `quote_quotation` parameter assign the following sentence:\n",
    "> “The world as we have created it is a process of our thinking. It cannot be changed without changing our thinking.”\n",
    "\n",
    "For the parameter `quote_author` assign the value *'Albert Einstein'*"
   ]
  },
  {
   "cell_type": "code",
   "execution_count": 12,
   "metadata": {
    "id": "9aQCVKrKf0lk"
   },
   "outputs": [],
   "source": [
    "# Your code \n",
    "\n",
    "new_quotation = Quotation(\n",
    "    quote_quotation = \"he world as we have created it is a process of our thinking. It cannot be changed without changing our thinking.\",\n",
    "    quote_author = \"Albert Einstein\"\n",
    ")"
   ]
  },
  {
   "cell_type": "markdown",
   "metadata": {
    "id": "fHgjox4_gRM8"
   },
   "source": [
    "**9. You will have to add the transaction. To do this, use the `session.add() ` method with `new_quotation` as argument.**"
   ]
  },
  {
   "cell_type": "code",
   "execution_count": 13,
   "metadata": {
    "id": "q3ffj9oTf48Y"
   },
   "outputs": [],
   "source": [
    "# Your code \n",
    "\n",
    "session.add(new_quotation)"
   ]
  },
  {
   "cell_type": "markdown",
   "metadata": {
    "id": "lRBMGIzig3wD"
   },
   "source": [
    "**10. The transaction has been added but not yet executed. To finish the transaction, you must use the `session.commit()` method.**\n",
    "You don't have to pass any arguments."
   ]
  },
  {
   "cell_type": "code",
   "execution_count": 14,
   "metadata": {
    "id": "4HmA8K6Gg4cd"
   },
   "outputs": [],
   "source": [
    "# Your code\n",
    "session.commit()\n"
   ]
  },
  {
   "cell_type": "markdown",
   "metadata": {},
   "source": [
    "### TABLE da neler var gormek icin"
   ]
  },
  {
   "cell_type": "code",
   "execution_count": 30,
   "metadata": {},
   "outputs": [
    {
     "name": "stdout",
     "output_type": "stream",
     "text": [
      "(1, 'he world as we have created it is a process of our thinking. It cannot be changed without changing our thinking.', 'Albert Einstein')\n",
      "(2, 'he world as we have created it is a process of our thinking. It cannot be changed without changing our thinking.', 'Albert Einstein')\n",
      "(3, 'he world as we have created it is a process of our thinking. It cannot be changed without changing our thinking.', 'Albert Einstein')\n"
     ]
    }
   ],
   "source": [
    "from sqlalchemy import create_engine, text\n",
    "\n",
    "engine = create_engine('sqlite:///data/drills.db')\n",
    "\n",
    "query = text('select * from quotation;')\n",
    "\n",
    "result = engine.execute(query)\n",
    "\n",
    "for i in result:\n",
    "    print(i)\n"
   ]
  },
  {
   "cell_type": "markdown",
   "metadata": {},
   "source": [
    "## Dublicate olanlari silmek icin"
   ]
  },
  {
   "cell_type": "code",
   "execution_count": 31,
   "metadata": {},
   "outputs": [],
   "source": [
    "# delete_duplicates_query = text('''\n",
    "#     DELETE FROM quotation\n",
    "#     WHERE id NOT IN (\n",
    "#         SELECT MIN(id)\n",
    "#         FROM quotation\n",
    "#         GROUP BY quote_quotation, quote_author\n",
    "# );\n",
    "# ''')\n",
    "\n",
    "# with engine.connect() as connection:\n",
    "#     connection.execute(delete_duplicates_query)"
   ]
  },
  {
   "cell_type": "markdown",
   "metadata": {},
   "source": [
    "### Tableda olanlari gormek icin yontem 1"
   ]
  },
  {
   "cell_type": "code",
   "execution_count": 32,
   "metadata": {},
   "outputs": [
    {
     "name": "stdout",
     "output_type": "stream",
     "text": [
      "(1, 'he world as we have created it is a process of our thinking. It cannot be changed without changing our thinking.', 'Albert Einstein')\n"
     ]
    }
   ],
   "source": [
    "query = text('SELECT * FROM quotation')\n",
    "\n",
    "with engine.connect() as connection:\n",
    "    result = connection.execute(query)\n",
    "    for i in result:\n",
    "        print(i)"
   ]
  },
  {
   "cell_type": "markdown",
   "metadata": {},
   "source": [
    "### Tableda olanlari gormek icin yontem 2"
   ]
  },
  {
   "cell_type": "code",
   "execution_count": 33,
   "metadata": {},
   "outputs": [
    {
     "name": "stdout",
     "output_type": "stream",
     "text": [
      "(1, 'he world as we have created it is a process of our thinking. It cannot be changed without changing our thinking.', 'Albert Einstein')\n"
     ]
    }
   ],
   "source": [
    "query = text('select * from quotation;')\n",
    "\n",
    "result = engine.execute(query)\n",
    "\n",
    "for i in result:\n",
    "    print(i)\n"
   ]
  },
  {
   "cell_type": "markdown",
   "metadata": {
    "id": "DPW8bSAlhms7"
   },
   "source": [
    "**11. Add all these sentences to the database (use a single commit):**"
   ]
  },
  {
   "cell_type": "code",
   "execution_count": 34,
   "metadata": {
    "id": "kfaQ_gESh21a"
   },
   "outputs": [],
   "source": [
    "data = [\n",
    "    {\"author\": \"Oscar Wilde\", \"text\": \"Beauty is in the eyes of the beholder.\"},\n",
    "    {\"author\": \"Marcel Proust\", \"text\": \"Beauty is not in the colors, but in their harmony.\"},\n",
    "    {\"author\": \"Philippe Claudel\", \"text\": \"Each letter has a scent, each verb, a perfume. Each word diffuses in the memory a place and its fragrances. And the text that gradually weaves itself, with the combined hazards of the alphabet and remembrance, then becomes the wonderful river, a thousand times branched and fragrant, of our dreamed life, our lived life, our life to come, which in turn carries us away and reveals us.\"},\n",
    "    {\"author\": \"Tintin\", \"text\": \"That’s one small step for man, on giant leap for mankind.\"},\n",
    "    {\"author\": \"François Weyergans\", \"text\": \"A dream that is not interpreted is like a letter that is not read.\"},\n",
    "    {\"author\": \"Vincent Van Gogh\", \"text\": \"I dream my painting, then I paint my dream.\"},\n",
    "    {\"author\": \"Hugues de Saint-Victor\", \"text\": \"An idle young man is like a young bull without the yoke.\"},\n",
    "    {\"author\": \"George Bernard Shaw\", \"text\": \"Marriage is the story of a young man and a young girl who pick a flower and receive an avalanche on their heads.\"},\n",
    "    {\"author\": \"Alain Tastet\", \"text\": \"I never dream at night, my only dream is to be awake beside you...\"},\n",
    "    {\"author\": \"Oscar Wilde\", \"text\":\"Be yourself; everyone else is already taken.\"},\n",
    "    {\"author\": \"Alain Tastet\", \"text\":\"This is a false quote...\"}\n",
    "]"
   ]
  },
  {
   "cell_type": "code",
   "execution_count": 38,
   "metadata": {},
   "outputs": [
    {
     "name": "stdout",
     "output_type": "stream",
     "text": [
      "Oscar Wilde  <--> Beauty is in the eyes of the beholder.\n",
      "Marcel Proust  <--> Beauty is not in the colors, but in their harmony.\n",
      "Philippe Claudel  <--> Each letter has a scent, each verb, a perfume. Each word diffuses in the memory a place and its fragrances. And the text that gradually weaves itself, with the combined hazards of the alphabet and remembrance, then becomes the wonderful river, a thousand times branched and fragrant, of our dreamed life, our lived life, our life to come, which in turn carries us away and reveals us.\n",
      "Tintin  <--> That’s one small step for man, on giant leap for mankind.\n",
      "François Weyergans  <--> A dream that is not interpreted is like a letter that is not read.\n",
      "Vincent Van Gogh  <--> I dream my painting, then I paint my dream.\n",
      "Hugues de Saint-Victor  <--> An idle young man is like a young bull without the yoke.\n",
      "George Bernard Shaw  <--> Marriage is the story of a young man and a young girl who pick a flower and receive an avalanche on their heads.\n",
      "Alain Tastet  <--> I never dream at night, my only dream is to be awake beside you...\n",
      "Oscar Wilde  <--> Be yourself; everyone else is already taken.\n",
      "Alain Tastet  <--> This is a false quote...\n"
     ]
    }
   ],
   "source": [
    "for i in data:\n",
    "    print(i['author'], ' <-->' ,i['text'])"
   ]
  },
  {
   "cell_type": "code",
   "execution_count": 39,
   "metadata": {
    "id": "jXqCvLDij4bD"
   },
   "outputs": [
    {
     "name": "stderr",
     "output_type": "stream",
     "text": [
      "c:\\Users\\mehme\\AppData\\Local\\Programs\\Python\\Python312\\Lib\\site-packages\\sqlalchemy\\orm\\session.py:2428: SAWarning: Identity map already had an identity for (<class '__main__.Quotation'>, (2,), None), replacing it with newly flushed object.   Are there load operations occurring inside of an event handler within the flush?\n",
      "  ) -> ScalarResult[_T]: ...\n",
      "c:\\Users\\mehme\\AppData\\Local\\Programs\\Python\\Python312\\Lib\\site-packages\\sqlalchemy\\orm\\session.py:2428: SAWarning: Identity map already had an identity for (<class '__main__.Quotation'>, (3,), None), replacing it with newly flushed object.   Are there load operations occurring inside of an event handler within the flush?\n",
      "  ) -> ScalarResult[_T]: ...\n"
     ]
    }
   ],
   "source": [
    "# Your code\n",
    "\n",
    "for i in data:\n",
    "    new_quotation = Quotation(\n",
    "        quote_quotation = i['text'],\n",
    "        quote_author = i['author']\n",
    "    )\n",
    "    session.add(new_quotation)\n",
    "\n",
    "session.commit()    "
   ]
  },
  {
   "cell_type": "code",
   "execution_count": 40,
   "metadata": {},
   "outputs": [
    {
     "name": "stdout",
     "output_type": "stream",
     "text": [
      "(1, 'he world as we have created it is a process of our thinking. It cannot be changed without changing our thinking.', 'Albert Einstein')\n",
      "(2, 'Beauty is in the eyes of the beholder.', 'Oscar Wilde')\n",
      "(3, 'Beauty is not in the colors, but in their harmony.', 'Marcel Proust')\n",
      "(4, 'Each letter has a scent, each verb, a perfume. Each word diffuses in the memory a place and its fragrances. And the text that gradually weaves itself ... (86 characters truncated) ... l river, a thousand times branched and fragrant, of our dreamed life, our lived life, our life to come, which in turn carries us away and reveals us.', 'Philippe Claudel')\n",
      "(5, 'That’s one small step for man, on giant leap for mankind.', 'Tintin')\n",
      "(6, 'A dream that is not interpreted is like a letter that is not read.', 'François Weyergans')\n",
      "(7, 'I dream my painting, then I paint my dream.', 'Vincent Van Gogh')\n",
      "(8, 'An idle young man is like a young bull without the yoke.', 'Hugues de Saint-Victor')\n",
      "(9, 'Marriage is the story of a young man and a young girl who pick a flower and receive an avalanche on their heads.', 'George Bernard Shaw')\n",
      "(10, 'I never dream at night, my only dream is to be awake beside you...', 'Alain Tastet')\n",
      "(11, 'Be yourself; everyone else is already taken.', 'Oscar Wilde')\n",
      "(12, 'This is a false quote...', 'Alain Tastet')\n"
     ]
    }
   ],
   "source": [
    "query = text('select * from quotation;')\n",
    "\n",
    "result = engine.execute(query)\n",
    "\n",
    "for i in result:\n",
    "    print(i)"
   ]
  },
  {
   "cell_type": "markdown",
   "metadata": {
    "id": "hQFegS_cjRBF"
   },
   "source": [
    "### Read\n",
    "\n",
    "**12. Display all quotes and authors in this form: 'This is a quote' - Author**"
   ]
  },
  {
   "cell_type": "code",
   "execution_count": 41,
   "metadata": {
    "colab": {
     "base_uri": "https://localhost:8080/"
    },
    "id": "zioBwugkC_H3",
    "outputId": "0cdf1d0d-a7b4-45e8-ca22-58d97aaf30c4"
   },
   "outputs": [
    {
     "name": "stdout",
     "output_type": "stream",
     "text": [
      "'he world as we have created it is a process of our thinking. It cannot be changed without changing our thinking.' - Albert Einstein\n",
      "'Beauty is in the eyes of the beholder.' - Oscar Wilde\n",
      "'Beauty is not in the colors, but in their harmony.' - Marcel Proust\n",
      "'Each letter has a scent, each verb, a perfume. Each word diffuses in the memory a place and its fragrances. And the text that gradually weaves itself, with the combined hazards of the alphabet and remembrance, then becomes the wonderful river, a thousand times branched and fragrant, of our dreamed life, our lived life, our life to come, which in turn carries us away and reveals us.' - Philippe Claudel\n",
      "'That’s one small step for man, on giant leap for mankind.' - Tintin\n",
      "'A dream that is not interpreted is like a letter that is not read.' - François Weyergans\n",
      "'I dream my painting, then I paint my dream.' - Vincent Van Gogh\n",
      "'An idle young man is like a young bull without the yoke.' - Hugues de Saint-Victor\n",
      "'Marriage is the story of a young man and a young girl who pick a flower and receive an avalanche on their heads.' - George Bernard Shaw\n",
      "'I never dream at night, my only dream is to be awake beside you...' - Alain Tastet\n",
      "'Be yourself; everyone else is already taken.' - Oscar Wilde\n",
      "'This is a false quote...' - Alain Tastet\n"
     ]
    }
   ],
   "source": [
    "# Your code\n",
    "\n",
    "query = text('SELECT quote_quotation, quote_author FROM quotation;')\n",
    "result = engine.execute(query)\n",
    "\n",
    "for i in result:\n",
    "    quote, author = i\n",
    "    print(f\"'{quote}' - {author}\")"
   ]
  },
  {
   "cell_type": "markdown",
   "metadata": {
    "id": "NAsd9Zbsk73W"
   },
   "source": [
    "**13. Display the sentence with `id 8`.**"
   ]
  },
  {
   "cell_type": "code",
   "execution_count": 42,
   "metadata": {
    "id": "SujPf7qGlVsA"
   },
   "outputs": [
    {
     "name": "stdout",
     "output_type": "stream",
     "text": [
      "'An idle young man is like a young bull without the yoke.' - Hugues de Saint-Victor\n"
     ]
    }
   ],
   "source": [
    "# Your code\n",
    "query = text('SELECT quote_quotation, quote_author FROM quotation WHERE id = :id')\n",
    "params = {'id': 8}\n",
    "\n",
    "result = engine.execute(query, params)\n",
    "row = result.fetchone()\n",
    "\n",
    "if row:\n",
    "    quote, author = row\n",
    "    print(f\"'{quote}' - {author}\")\n",
    "else:\n",
    "    print(\"there is no record with id 8.\")\n",
    "\n"
   ]
  },
  {
   "cell_type": "markdown",
   "metadata": {
    "id": "Tub_Iin4lWNh"
   },
   "source": [
    "**14. Display all quotes by `Oscar Wilde`.**\n"
   ]
  },
  {
   "cell_type": "code",
   "execution_count": 44,
   "metadata": {
    "id": "ibptZxZJlg2X"
   },
   "outputs": [
    {
     "name": "stdout",
     "output_type": "stream",
     "text": [
      "'Beauty is in the eyes of the beholder.'\n",
      "'Be yourself; everyone else is already taken.'\n"
     ]
    }
   ],
   "source": [
    "# Your code\n",
    "query = text(\"SELECT quote_quotation FROM quotation WHERE quote_author = :author\")\n",
    "params = {'author': 'Oscar Wilde'}\n",
    "\n",
    "result = engine.execute(query, params)\n",
    "for i in result:\n",
    "    quote = i['quote_quotation']\n",
    "    print(f\"'{quote}'\")"
   ]
  },
  {
   "cell_type": "markdown",
   "metadata": {
    "id": "vRtxs03pjVtb"
   },
   "source": [
    "### Update \n",
    "\n",
    "**15. Make an update of the sentence:** \n",
    ">\"That’s one small step for man, on giant leap for mankind.\" \n",
    "\n",
    "and **replace the author who is `Tintin` by `Neil Armstrong`**."
   ]
  },
  {
   "cell_type": "code",
   "execution_count": 47,
   "metadata": {
    "id": "3PgFPT1WjUsY"
   },
   "outputs": [
    {
     "name": "stdout",
     "output_type": "stream",
     "text": [
      "ID: 5, Quote: 'That’s one small step for man, on giant leap for mankind.', Author: Neil Armstrong\n"
     ]
    }
   ],
   "source": [
    "# Your code\n",
    "\n",
    "update_query = text('''\n",
    "UPDATE quotation\n",
    "SET quote_author = :new_author\n",
    "WHERE quote_quotation = :quote_text AND quote_author = :old_author                                        \n",
    "            ''')\n",
    "params = {\n",
    "    'new_author': 'Neil Armstrong',\n",
    "    'quote_text' : 'That’s one small step for man, on giant leap for mankind.',\n",
    "    'old_author' : 'Tintin'\n",
    "}\n",
    "\n",
    "engine.execute(update_query, params)\n",
    "\n"
   ]
  },
  {
   "cell_type": "markdown",
   "metadata": {},
   "source": [
    "#### SADECE Update olmus satiri gormek istersen:\n"
   ]
  },
  {
   "cell_type": "code",
   "execution_count": 48,
   "metadata": {},
   "outputs": [
    {
     "name": "stdout",
     "output_type": "stream",
     "text": [
      "ID: 5, Quote: 'That’s one small step for man, on giant leap for mankind.', Author: Neil Armstrong\n"
     ]
    }
   ],
   "source": [
    "select_query = text('SELECT id, quote_quotation, quote_author FROM quotation WHERE quote_quotation = :quote_text')\n",
    "select_params = {'quote_text': \"That’s one small step for man, on giant leap for mankind.\"}\n",
    "result = engine.execute(select_query, select_params)\n",
    "\n",
    "for i in result:\n",
    "    id_, quote, author = i\n",
    "    print(f\"ID: {id_}, Quote: '{quote}', Author: {author}\")"
   ]
  },
  {
   "cell_type": "markdown",
   "metadata": {},
   "source": [
    "### TUm hepsini goemek istersen:"
   ]
  },
  {
   "cell_type": "code",
   "execution_count": 49,
   "metadata": {},
   "outputs": [
    {
     "name": "stdout",
     "output_type": "stream",
     "text": [
      "(1, 'he world as we have created it is a process of our thinking. It cannot be changed without changing our thinking.', 'Albert Einstein')\n",
      "(2, 'Beauty is in the eyes of the beholder.', 'Oscar Wilde')\n",
      "(3, 'Beauty is not in the colors, but in their harmony.', 'Marcel Proust')\n",
      "(4, 'Each letter has a scent, each verb, a perfume. Each word diffuses in the memory a place and its fragrances. And the text that gradually weaves itself ... (86 characters truncated) ... l river, a thousand times branched and fragrant, of our dreamed life, our lived life, our life to come, which in turn carries us away and reveals us.', 'Philippe Claudel')\n",
      "(5, 'That’s one small step for man, on giant leap for mankind.', 'Neil Armstrong')\n",
      "(6, 'A dream that is not interpreted is like a letter that is not read.', 'François Weyergans')\n",
      "(7, 'I dream my painting, then I paint my dream.', 'Vincent Van Gogh')\n",
      "(8, 'An idle young man is like a young bull without the yoke.', 'Hugues de Saint-Victor')\n",
      "(9, 'Marriage is the story of a young man and a young girl who pick a flower and receive an avalanche on their heads.', 'George Bernard Shaw')\n",
      "(10, 'I never dream at night, my only dream is to be awake beside you...', 'Alain Tastet')\n",
      "(11, 'Be yourself; everyone else is already taken.', 'Oscar Wilde')\n",
      "(12, 'This is a false quote...', 'Alain Tastet')\n"
     ]
    }
   ],
   "source": [
    "select_query = text('SELECT * from quotation')\n",
    "result = engine.execute(select_query)\n",
    "for i  in result:\n",
    "    print(i)"
   ]
  },
  {
   "cell_type": "markdown",
   "metadata": {
    "id": "LjRrmfj2lwhQ"
   },
   "source": [
    "### Delete\n",
    "\n",
    "**16. Delete all quotes by `Alain Tastet`.**"
   ]
  },
  {
   "cell_type": "code",
   "execution_count": 52,
   "metadata": {
    "id": "NV0UUxcOmmwq"
   },
   "outputs": [
    {
     "name": "stdout",
     "output_type": "stream",
     "text": [
      "(1, 'he world as we have created it is a process of our thinking. It cannot be changed without changing our thinking.', 'Albert Einstein')\n",
      "(2, 'Beauty is in the eyes of the beholder.', 'Oscar Wilde')\n",
      "(3, 'Beauty is not in the colors, but in their harmony.', 'Marcel Proust')\n",
      "(4, 'Each letter has a scent, each verb, a perfume. Each word diffuses in the memory a place and its fragrances. And the text that gradually weaves itself ... (86 characters truncated) ... l river, a thousand times branched and fragrant, of our dreamed life, our lived life, our life to come, which in turn carries us away and reveals us.', 'Philippe Claudel')\n",
      "(5, 'That’s one small step for man, on giant leap for mankind.', 'Neil Armstrong')\n",
      "(6, 'A dream that is not interpreted is like a letter that is not read.', 'François Weyergans')\n",
      "(7, 'I dream my painting, then I paint my dream.', 'Vincent Van Gogh')\n",
      "(8, 'An idle young man is like a young bull without the yoke.', 'Hugues de Saint-Victor')\n",
      "(9, 'Marriage is the story of a young man and a young girl who pick a flower and receive an avalanche on their heads.', 'George Bernard Shaw')\n",
      "(11, 'Be yourself; everyone else is already taken.', 'Oscar Wilde')\n"
     ]
    }
   ],
   "source": [
    "# Your code\n",
    "delete_query = text(\"\"\"\n",
    "DELETE FROM quotation\n",
    "WHERE quote_author = :author                    \n",
    "\"\"\")\n",
    "params = {'author': 'Alain Tastet'}\n",
    "result = engine.execute(delete_query, params)\n",
    "\n",
    "select_query = text('SeLECT * FROM quotation')\n",
    "\n",
    "a = engine.execute(select_query)\n",
    "\n",
    "for i  in a:\n",
    "    print(i)\n"
   ]
  },
  {
   "cell_type": "markdown",
   "metadata": {
    "id": "-e9EMKy8mnOS"
   },
   "source": [
    "**17. Delete the quote with the `id 2`.** "
   ]
  },
  {
   "cell_type": "code",
   "execution_count": 54,
   "metadata": {
    "id": "JswdTo5Kmrwr"
   },
   "outputs": [
    {
     "name": "stdout",
     "output_type": "stream",
     "text": [
      "(1, 'he world as we have created it is a process of our thinking. It cannot be changed without changing our thinking.', 'Albert Einstein')\n",
      "(3, 'Beauty is not in the colors, but in their harmony.', 'Marcel Proust')\n",
      "(4, 'Each letter has a scent, each verb, a perfume. Each word diffuses in the memory a place and its fragrances. And the text that gradually weaves itself ... (86 characters truncated) ... l river, a thousand times branched and fragrant, of our dreamed life, our lived life, our life to come, which in turn carries us away and reveals us.', 'Philippe Claudel')\n",
      "(5, 'That’s one small step for man, on giant leap for mankind.', 'Neil Armstrong')\n",
      "(6, 'A dream that is not interpreted is like a letter that is not read.', 'François Weyergans')\n",
      "(7, 'I dream my painting, then I paint my dream.', 'Vincent Van Gogh')\n",
      "(8, 'An idle young man is like a young bull without the yoke.', 'Hugues de Saint-Victor')\n",
      "(9, 'Marriage is the story of a young man and a young girl who pick a flower and receive an avalanche on their heads.', 'George Bernard Shaw')\n",
      "(11, 'Be yourself; everyone else is already taken.', 'Oscar Wilde')\n"
     ]
    }
   ],
   "source": [
    "# Your code\n",
    "delete_query = text('''\n",
    "DELETE FROM quotation\n",
    "where id = :id                                        \n",
    "''')\n",
    "params = {'id': 2}\n",
    "\n",
    "result = engine.execute(delete_query, params)\n",
    "\n",
    "select_query = text('SELECT * FROM quotation')\n",
    "result = engine.execute(select_query)\n",
    "for i in result:\n",
    "    print(i)"
   ]
  },
  {
   "cell_type": "markdown",
   "metadata": {},
   "source": [
    "## That's it!\n",
    "You have built a database and acquired many new tools to interact with it. On to the next step!\n",
    "\n",
    "![tools](https://media.giphy.com/media/xT0xekLZmeC54FCTJu/giphy-downsized-large.gif) \n",
    "\n",
    "## Resources\n",
    "\n",
    "- [Udacity Database Setup using SQLAlchemy](https://github.com/udacity/Full-Stack-Foundations/blob/master/Lesson_1/database_setup.py)\n",
    "- [Cheat sheet SQL Alchemy](https://www.pythonsheets.com/notes/python-sqlalchemy.html)"
   ]
  }
 ],
 "metadata": {
  "colab": {
   "collapsed_sections": [],
   "name": "drill_sql_alchemy.ipynb",
   "provenance": []
  },
  "kernelspec": {
   "display_name": "Python 3.9.13 64-bit (microsoft store)",
   "language": "python",
   "name": "python3"
  },
  "language_info": {
   "codemirror_mode": {
    "name": "ipython",
    "version": 3
   },
   "file_extension": ".py",
   "mimetype": "text/x-python",
   "name": "python",
   "nbconvert_exporter": "python",
   "pygments_lexer": "ipython3",
   "version": "3.12.4"
  },
  "vscode": {
   "interpreter": {
    "hash": "5af58ead5434bcaec4ba320c097b4ab95f4d47b5cc097d838e053a401accc545"
   }
  }
 },
 "nbformat": 4,
 "nbformat_minor": 1
}
