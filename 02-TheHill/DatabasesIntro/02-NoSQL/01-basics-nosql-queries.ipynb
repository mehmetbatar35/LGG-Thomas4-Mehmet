{
 "cells": [
  {
   "cell_type": "markdown",
   "metadata": {},
   "source": [
    "# NoSQL: Basic queries on non-relational databases\n",
    "\n",
    "## NoSQL: Review\n",
    "\n",
    "A NoSQL database is designed to handle data that are not structured in tabular relations. The data can be stored in key-value pairs (like Python dictionaries), documents (JSON), or graphs.\n",
    "\n",
    "<img src=\"../assets/nosql_vs_sql.jpeg\"  width = 500 px></img>\n",
    "\n",
    "Unlike relational databases (SQL), NoSQL does not (necessarily) employ tables and rows. Also they are much more flexible since the structure of the entries is not predefined. Therefore you can add data without defining anything (even not the table itself).\n",
    "\n",
    "[This article](https://www.integrate.io/blog/the-sql-vs-nosql-difference/) gives a recap of the biggest differences between SQL and NoSQL database systems:\n",
    "|SQL|NoSQL|\n",
    "|---|---|\n",
    "|SQL databases are relational| NoSQL databases are non-relational. In NoSQL you cannot make relationships between tables (`JOIN`)|\n",
    "|SQL databases are table-based |NoSQL databases are document, key-value, graph, or wide-column stores.|\n",
    "|SQL databases use structured query language and have a predefined schema.| NoSQL databases have dynamic schemas for unstructured data.|\n",
    "|SQL databases are vertically scalable (by adding processing power)|NoSQL databases are horizontally scalable (by adding servers/machines).|\n",
    "|SQL databases are better for multi-row transactions|NoSQL is better for unstructured data like documents or JSON.|\n",
    "\n",
    "In the image, below you will find examples of popular SQL and NoSQL databases. \n",
    "\n",
    "<img src=\"../assets/popular_examples_nosql_sql.jpeg\" width =500px></img>\n",
    "\n",
    "In the next section, we'll cover an example using MongoDB. You will see that we can translate many of the basic SQL queries you know.\n",
    "\n",
    "## MongoDB\n",
    "\n",
    "<img src=\"https://upload.wikimedia.org/wikipedia/fr/thumb/4/45/MongoDB-Logo.svg/527px-MongoDB-Logo.svg.png\" />\n",
    "\n",
    "A lot of companies provide NoSQL architectures. One of the most popular is [MongoDB](https://www.mongodb.com/). A MongoDB database contains collections (tables) of documents (entries). The documents are stored in the JSON format which is very convenient to handle with Python!\n",
    "\n",
    "The syntax of the queries is based on JavaScript. They basically look like python dictionaries.\n",
    "\n",
    "Before diving in some exercises, you can have a look to [this quick intro](https://www.mongodb.com/docs/manual/tutorial/query-documents/) about MongoDB queries.\n",
    "\n",
    "### Creating the database\n",
    "\n",
    "We have created and filled a MongoDB database for you. You probably know already the database. It is the list of country leaders that you have used already in the Wikipedia project.\n",
    "\n",
    "You can set it up by deploying the Docker image we have pre-built:"
   ]
  },
  {
   "cell_type": "code",
   "execution_count": 2,
   "metadata": {},
   "outputs": [
    {
     "name": "stderr",
     "output_type": "stream",
     "text": [
      " Container mongodb  Running\n",
      " Container 02-nosql-mongo-seed-1  Created\n",
      " Container 02-nosql-mongo-seed-1  Starting\n",
      " Container 02-nosql-mongo-seed-1  Started\n"
     ]
    }
   ],
   "source": [
    "# You can run it from this notebook with:\n",
    "!docker-compose up -d\n",
    "\n",
    "# Or in your terminal with:\n",
    "# docker-compose up -d"
   ]
  },
  {
   "cell_type": "markdown",
   "metadata": {},
   "source": [
    "### Conneting to the database\n",
    "\n",
    "For using MongoDB through Python you will need to install the `pymongo` library."
   ]
  },
  {
   "cell_type": "code",
   "execution_count": 3,
   "metadata": {},
   "outputs": [
    {
     "data": {
      "text/plain": [
       "['leaders']"
      ]
     },
     "execution_count": 3,
     "metadata": {},
     "output_type": "execute_result"
    }
   ],
   "source": [
    "from pymongo import MongoClient\n",
    "\n",
    "# Creation of a MongoDB Client (by giving the host and the port)\n",
    "client = MongoClient(host=\"localhost\", port=27017)\n",
    "\n",
    "# Instantiation of the database\n",
    "db = client[\"becode\"]\n",
    "\n",
    "# Let's see which collections are in the database\n",
    "db.list_collection_names()"
   ]
  },
  {
   "cell_type": "markdown",
   "metadata": {},
   "source": [
    "### Basic Queries"
   ]
  },
  {
   "cell_type": "markdown",
   "metadata": {},
   "source": [
    "**1. Show the first leader of the `leaders` collection by using the `find_one` method**\n",
    "\n",
    "The corresponding `SQL` query would be:\n",
    "\n",
    "```sql\n",
    "SELECT * FROM leaders LIMIT 1;\n",
    "```"
   ]
  },
  {
   "cell_type": "code",
   "execution_count": 4,
   "metadata": {},
   "outputs": [
    {
     "data": {
      "text/plain": [
       "{'_id': ObjectId('66bc9c5657b75da88ded5ec6'),\n",
       " 'id': 'Q7747',\n",
       " 'first_name': 'Vladimir',\n",
       " 'last_name': 'Putin',\n",
       " 'birth_date': datetime.datetime(1952, 10, 7, 0, 0),\n",
       " 'death_date': None,\n",
       " 'place_of_birth': 'Saint Petersburg',\n",
       " 'wikipedia_url': 'https://ru.wikipedia.org/wiki/%D0%9F%D1%83%D1%82%D0%B8%D0%BD,_%D0%92%D0%BB%D0%B0%D0%B4%D0%B8%D0%BC%D0%B8%D1%80_%D0%92%D0%BB%D0%B0%D0%B4%D0%B8%D0%BC%D0%B8%D1%80%D0%BE%D0%B2%D0%B8%D1%87',\n",
       " 'start_mandate': datetime.datetime(2000, 5, 7, 0, 0),\n",
       " 'end_mandate': datetime.datetime(2008, 5, 7, 0, 0),\n",
       " 'country': 'ru'}"
      ]
     },
     "execution_count": 4,
     "metadata": {},
     "output_type": "execute_result"
    }
   ],
   "source": [
    "db[\"leaders\"].find_one()"
   ]
  },
  {
   "cell_type": "markdown",
   "metadata": {},
   "source": [
    "**2. Show the first leader of the collection whose country is Belgium**\n",
    "\n",
    "To that purpose we will use the query as first parameter of the `find_one` function. The query is formatted as a dictionary.\n",
    "\n",
    "In SQL it would be like adding a `WHERE` condition to the query:\n",
    "\n",
    "```sql\n",
    "SELECT * FROM leaders WHERE country = 'be' LIMIT 1;\n",
    "```"
   ]
  },
  {
   "cell_type": "code",
   "execution_count": 5,
   "metadata": {},
   "outputs": [
    {
     "data": {
      "text/plain": [
       "{'_id': ObjectId('66bc9c5657b75da88ded5ef5'),\n",
       " 'id': 'Q12978',\n",
       " 'first_name': 'Guy',\n",
       " 'last_name': 'Verhofstadt',\n",
       " 'birth_date': datetime.datetime(1953, 4, 11, 0, 0),\n",
       " 'death_date': None,\n",
       " 'place_of_birth': 'Dendermonde',\n",
       " 'wikipedia_url': 'https://nl.wikipedia.org/wiki/Guy_Verhofstadt',\n",
       " 'start_mandate': datetime.datetime(1999, 7, 12, 0, 0),\n",
       " 'end_mandate': datetime.datetime(2008, 3, 20, 0, 0),\n",
       " 'country': 'be'}"
      ]
     },
     "execution_count": 5,
     "metadata": {},
     "output_type": "execute_result"
    }
   ],
   "source": [
    "db[\"leaders\"].find_one({\"country\": \"be\"})"
   ]
  },
  {
   "cell_type": "markdown",
   "metadata": {},
   "source": [
    "**3. Select some fields to display**\n",
    "\n",
    "Let's use the same query by displaying only the `first_name` and the `last_name` of the leader. It corresponds to a `SELECT` in SQL.\n",
    "\n",
    "We will use the [project](https://www.mongodb.com/docs/manual/tutorial/project-fields-from-query-results/) as the second parameter of the function. It is also formatted as a dictionary whose the key contains the targeted field and the value is `1` if we want the field to be displayed\n",
    "\n",
    "The corresponding SQL query would be:\n",
    "\n",
    "```sql\n",
    "SELECT first_name, last_name FROM leaders WHERE country = 'be' LIMIT 1;\n",
    "```"
   ]
  },
  {
   "cell_type": "code",
   "execution_count": 6,
   "metadata": {},
   "outputs": [
    {
     "data": {
      "text/plain": [
       "{'_id': ObjectId('66bc9c5657b75da88ded5ef5'),\n",
       " 'first_name': 'Guy',\n",
       " 'last_name': 'Verhofstadt'}"
      ]
     },
     "execution_count": 6,
     "metadata": {},
     "output_type": "execute_result"
    }
   ],
   "source": [
    "db[\"leaders\"].find_one({\"country\": \"be\"}, {\"first_name\": 1, \"last_name\": 1})"
   ]
  },
  {
   "cell_type": "markdown",
   "metadata": {},
   "source": [
    "We can also decide to not display a field. In that case we put `0` as value for the dictionary."
   ]
  },
  {
   "cell_type": "code",
   "execution_count": 7,
   "metadata": {},
   "outputs": [
    {
     "data": {
      "text/plain": [
       "{'_id': ObjectId('66bc9c5657b75da88ded5ef5'),\n",
       " 'first_name': 'Guy',\n",
       " 'last_name': 'Verhofstadt',\n",
       " 'birth_date': datetime.datetime(1953, 4, 11, 0, 0),\n",
       " 'death_date': None,\n",
       " 'place_of_birth': 'Dendermonde',\n",
       " 'start_mandate': datetime.datetime(1999, 7, 12, 0, 0),\n",
       " 'end_mandate': datetime.datetime(2008, 3, 20, 0, 0),\n",
       " 'country': 'be'}"
      ]
     },
     "execution_count": 7,
     "metadata": {},
     "output_type": "execute_result"
    }
   ],
   "source": [
    "db[\"leaders\"].find_one({\"country\": \"be\"}, {\"wikipedia_url\": 0, \"id\": 0})"
   ]
  },
  {
   "cell_type": "markdown",
   "metadata": {},
   "source": [
    "**4. Find the distinct countries**\n",
    "\n",
    "The SQL equivalent:\n",
    "\n",
    "```sql\n",
    "SELECT DISTINCT country FROM leaders;\n",
    "```"
   ]
  },
  {
   "cell_type": "code",
   "execution_count": 8,
   "metadata": {},
   "outputs": [
    {
     "data": {
      "text/plain": [
       "['be', 'fr', 'ma', 'ru', 'us']"
      ]
     },
     "execution_count": 8,
     "metadata": {},
     "output_type": "execute_result"
    }
   ],
   "source": [
    "db[\"leaders\"].find().distinct(\"country\")"
   ]
  },
  {
   "cell_type": "markdown",
   "metadata": {},
   "source": [
    "**5. Find all the leaders who are still alive**\n",
    "\n",
    "We can assume that they have no `death_date`, isn't?"
   ]
  },
  {
   "cell_type": "code",
   "execution_count": 9,
   "metadata": {},
   "outputs": [
    {
     "data": {
      "text/plain": [
       "<pymongo.cursor.Cursor at 0x2a9e5a269c0>"
      ]
     },
     "execution_count": 9,
     "metadata": {},
     "output_type": "execute_result"
    }
   ],
   "source": [
    "db[\"leaders\"].find({\"death_date\": None}, {\"last_name\":1, \"first_name\":1, \"country\":1})"
   ]
  },
  {
   "cell_type": "markdown",
   "metadata": {},
   "source": [
    "As you see the `find` command returns a cursor. No worries we can process it by using a simple Python loop!"
   ]
  },
  {
   "cell_type": "code",
   "execution_count": 10,
   "metadata": {},
   "outputs": [
    {
     "name": "stdout",
     "output_type": "stream",
     "text": [
      "Vladimir Putin (ru)\n",
      "Mohammed None (ma)\n",
      "Barack Obama (us)\n",
      "George Bush (us)\n",
      "Joe Biden (us)\n",
      "Bill Clinton (us)\n",
      "Mohammed None (ma)\n",
      "Dmitry Medvedev (ru)\n",
      "Mohammed None (ma)\n",
      "Donald Trump (us)\n",
      "Jimmy Carter (us)\n",
      "Guy Verhofstadt (be)\n",
      "Yves Leterme (be)\n",
      "Herman Van Rompaey (be)\n",
      "Mark Eyskens (be)\n",
      "Elio Di Rupo (be)\n",
      "Charles Michel (be)\n",
      "Sophie Wilmès (be)\n",
      "François Hollande (fr)\n",
      "Alexander De Croo (be)\n",
      "Nicolas Sarkozy (fr)\n",
      "Emmanuel Macron (fr)\n",
      "Dmitry Medvedev (ru)\n",
      "Mohammed None (ma)\n",
      "Barack Obama (us)\n",
      "Bill Clinton (us)\n",
      "George Bush (us)\n",
      "Joe Biden (us)\n",
      "Mohammed None (ma)\n",
      "Vladimir Putin (ru)\n",
      "Mohammed None (ma)\n",
      "Donald Trump (us)\n",
      "Guy Verhofstadt (be)\n",
      "Yves Leterme (be)\n",
      "Herman Van Rompaey (be)\n",
      "Jimmy Carter (us)\n",
      "Elio Di Rupo (be)\n",
      "Alexander De Croo (be)\n",
      "Mark Eyskens (be)\n",
      "Charles Michel (be)\n",
      "François Hollande (fr)\n",
      "Sophie Wilmès (be)\n",
      "Nicolas Sarkozy (fr)\n",
      "Emmanuel Macron (fr)\n",
      "Mohammed None (ma)\n",
      "Barack Obama (us)\n",
      "George Bush (us)\n",
      "Bill Clinton (us)\n",
      "Mohammed None (ma)\n",
      "Joe Biden (us)\n",
      "Vladimir Putin (ru)\n",
      "Mohammed None (ma)\n",
      "Dmitry Medvedev (ru)\n",
      "Donald Trump (us)\n",
      "Jimmy Carter (us)\n",
      "Yves Leterme (be)\n",
      "Elio Di Rupo (be)\n",
      "Herman Van Rompaey (be)\n",
      "Guy Verhofstadt (be)\n",
      "Mark Eyskens (be)\n",
      "Charles Michel (be)\n",
      "Sophie Wilmès (be)\n",
      "Alexander De Croo (be)\n",
      "François Hollande (fr)\n",
      "Nicolas Sarkozy (fr)\n",
      "Emmanuel Macron (fr)\n"
     ]
    }
   ],
   "source": [
    "for leader in db[\"leaders\"].find({\"death_date\": None}, {\"last_name\":1, \"first_name\":1, \"country\":1}):\n",
    "    print(f\"{leader['first_name']} {leader['last_name']} ({leader['country']})\")"
   ]
  },
  {
   "cell_type": "markdown",
   "metadata": {},
   "source": [
    "**6. Let's now insert the leader of tomorrow: you?**\n",
    "\n",
    "As you know, MongoDB is flexible. It means that you can add entries although some fields are missing. Let's give a try:"
   ]
  },
  {
   "cell_type": "code",
   "execution_count": 11,
   "metadata": {},
   "outputs": [
    {
     "data": {
      "text/plain": [
       "InsertOneResult(ObjectId('66be43da4ec6f98db27e563e'), acknowledged=True)"
      ]
     },
     "execution_count": 11,
     "metadata": {},
     "output_type": "execute_result"
    }
   ],
   "source": [
    "you = {\n",
    "    'first_name': 'ADD HERE YOUR FIRST NAME',\n",
    "    'last_name': 'ADD HERE YOUR LAST NAME',\n",
    "    'birth_date': 'ADD HERE YOUR BIRTH DATE',\n",
    "    'country': 'ADD HERE YOUR COUNTRY CODE'\n",
    "}\n",
    "db[\"leaders\"].insert_one(you)"
   ]
  },
  {
   "cell_type": "code",
   "execution_count": 12,
   "metadata": {},
   "outputs": [
    {
     "data": {
      "text/plain": [
       "InsertOneResult(ObjectId('66be43da4ec6f98db27e563f'), acknowledged=True)"
      ]
     },
     "execution_count": 12,
     "metadata": {},
     "output_type": "execute_result"
    }
   ],
   "source": [
    "me = {\n",
    "    'first_name' : 'Mehmet',\n",
    "    'last_name' : 'Batar',\n",
    "    'birth_date' : '22.12.1991',\n",
    "    'country' : 'tr'\n",
    "}\n",
    "db['leaders'].insert_one(me)"
   ]
  },
  {
   "cell_type": "markdown",
   "metadata": {},
   "source": [
    "Let's have a look to your data!"
   ]
  },
  {
   "cell_type": "code",
   "execution_count": 13,
   "metadata": {},
   "outputs": [
    {
     "data": {
      "text/plain": [
       "{'_id': ObjectId('66be43da4ec6f98db27e563e'),\n",
       " 'first_name': 'ADD HERE YOUR FIRST NAME',\n",
       " 'last_name': 'ADD HERE YOUR LAST NAME',\n",
       " 'birth_date': 'ADD HERE YOUR BIRTH DATE',\n",
       " 'country': 'ADD HERE YOUR COUNTRY CODE'}"
      ]
     },
     "execution_count": 13,
     "metadata": {},
     "output_type": "execute_result"
    }
   ],
   "source": [
    "db[\"leaders\"].find_one({\"first_name\": \"ADD HERE YOUR FIRST NAME\"})"
   ]
  },
  {
   "cell_type": "code",
   "execution_count": 14,
   "metadata": {},
   "outputs": [
    {
     "data": {
      "text/plain": [
       "{'_id': ObjectId('66be43da4ec6f98db27e563f'),\n",
       " 'first_name': 'Mehmet',\n",
       " 'last_name': 'Batar',\n",
       " 'birth_date': '22.12.1991',\n",
       " 'country': 'tr'}"
      ]
     },
     "execution_count": 14,
     "metadata": {},
     "output_type": "execute_result"
    }
   ],
   "source": [
    "db['leaders'].find_one({'first_name': 'Mehmet'})"
   ]
  },
  {
   "cell_type": "markdown",
   "metadata": {},
   "source": [
    "We can observe two things here:\n",
    "- A field `_id` has been automatically added by Mongo. This field is incremental. That means that it will always be higher than the previous element of the collection.\n",
    "- Some fields are missing (the `place_of_birth` for instance). This is a property of NoSQL. All fields are not mandatory!\n",
    "\n",
    "We can check missing values by using the query `{\"$exists\":False}`:"
   ]
  },
  {
   "cell_type": "code",
   "execution_count": 15,
   "metadata": {},
   "outputs": [
    {
     "name": "stdout",
     "output_type": "stream",
     "text": [
      "{'_id': ObjectId('66be43da4ec6f98db27e563e'), 'first_name': 'ADD HERE YOUR FIRST NAME', 'last_name': 'ADD HERE YOUR LAST NAME', 'birth_date': 'ADD HERE YOUR BIRTH DATE', 'country': 'ADD HERE YOUR COUNTRY CODE'}\n",
      "{'_id': ObjectId('66be43da4ec6f98db27e563f'), 'first_name': 'Mehmet', 'last_name': 'Batar', 'birth_date': '22.12.1991', 'country': 'tr'}\n"
     ]
    }
   ],
   "source": [
    "for leader in db[\"leaders\"].find({\"place_of_birth\":{\"$exists\":False}}):\n",
    "    print(leader)"
   ]
  },
  {
   "cell_type": "markdown",
   "metadata": {},
   "source": [
    "### Update data\n",
    "\n",
    "Since your place of birth is missing in the data, let's add it now. The update function has two main arguments:\n",
    "- a query that will select the entries to update\n",
    "- an update operation. As always, it is formatted as a dictionary"
   ]
  },
  {
   "cell_type": "code",
   "execution_count": 16,
   "metadata": {},
   "outputs": [
    {
     "data": {
      "text/plain": [
       "UpdateResult({'n': 1, 'nModified': 1, 'ok': 1.0, 'updatedExisting': True}, acknowledged=True)"
      ]
     },
     "execution_count": 16,
     "metadata": {},
     "output_type": "execute_result"
    }
   ],
   "source": [
    "db[\"leaders\"].update_one({\"first_name\": \"ADD HERE YOUR FIRST NAME\"}, {\"$set\": {\"place_of_birth\": \"ADD HERE YOUR PLACE OF BIRTH\"}})"
   ]
  },
  {
   "cell_type": "code",
   "execution_count": 17,
   "metadata": {},
   "outputs": [
    {
     "data": {
      "text/plain": [
       "UpdateResult({'n': 1, 'nModified': 1, 'ok': 1.0, 'updatedExisting': True}, acknowledged=True)"
      ]
     },
     "execution_count": 17,
     "metadata": {},
     "output_type": "execute_result"
    }
   ],
   "source": [
    "db['leaders'].update_one({'first_name': 'Mehmet'}, {\"$set\": {'place_of_birth': 'Izmir'}})"
   ]
  },
  {
   "cell_type": "markdown",
   "metadata": {},
   "source": [
    "#### Remove data\n",
    "\n",
    "Your dream is over ;-) Since you will not be a leader of tomorrow, we will remove you from the collection. The `delete` (or `delete_one`) function has one main argument: the query that will select the entries to be removed."
   ]
  },
  {
   "cell_type": "code",
   "execution_count": 18,
   "metadata": {},
   "outputs": [
    {
     "data": {
      "text/plain": [
       "DeleteResult({'n': 1, 'ok': 1.0}, acknowledged=True)"
      ]
     },
     "execution_count": 18,
     "metadata": {},
     "output_type": "execute_result"
    }
   ],
   "source": [
    "db[\"leaders\"].delete_one({\"first_name\": \"ADD HERE YOUR FIRST NAME\"})"
   ]
  },
  {
   "cell_type": "code",
   "execution_count": 19,
   "metadata": {},
   "outputs": [
    {
     "data": {
      "text/plain": [
       "DeleteResult({'n': 1, 'ok': 1.0}, acknowledged=True)"
      ]
     },
     "execution_count": 19,
     "metadata": {},
     "output_type": "execute_result"
    }
   ],
   "source": [
    "db['leaders'].delete_one({'first_name': 'Mehmet'})"
   ]
  },
  {
   "cell_type": "markdown",
   "metadata": {},
   "source": [
    "## Your Turn!\n",
    "\n",
    "Based on your knowledge and some Google search try to create the following queries:\n",
    "\n",
    "- Remove the leaders who have an empty or null (`None`) last name\n",
    "- Display all unique first names from the collection\n",
    "- Transform all the dates of the dataset by a datetime object (they are currently strings which is not a good practice). You can use a python script that interacts with the DB instead of doing everything in a single query\n",
    "- Display the 10 older leaders ordered by their birth date (search for how to sort and to use limits in MongoDB)\n",
    "- Create a Python script that computes the numbers of leaders by country\n",
    "- Do the same by using a MongoDB [aggregation pipeline](https://www.mongodb.com/docs/manual/aggregation/)"
   ]
  },
  {
   "cell_type": "markdown",
   "metadata": {},
   "source": [
    "# ******************************************************************** "
   ]
  },
  {
   "cell_type": "markdown",
   "metadata": {},
   "source": [
    "- Remove the leaders who have an empty or null (`None`) last name\n"
   ]
  },
  {
   "cell_type": "code",
   "execution_count": 20,
   "metadata": {},
   "outputs": [
    {
     "name": "stdout",
     "output_type": "stream",
     "text": [
      "{'_id': ObjectId('66bc9c5657b75da88ded5ec6'), 'id': 'Q7747', 'first_name': 'Vladimir', 'last_name': 'Putin', 'birth_date': datetime.datetime(1952, 10, 7, 0, 0), 'death_date': None, 'place_of_birth': 'Saint Petersburg', 'wikipedia_url': 'https://ru.wikipedia.org/wiki/%D0%9F%D1%83%D1%82%D0%B8%D0%BD,_%D0%92%D0%BB%D0%B0%D0%B4%D0%B8%D0%BC%D0%B8%D1%80_%D0%92%D0%BB%D0%B0%D0%B4%D0%B8%D0%BC%D0%B8%D1%80%D0%BE%D0%B2%D0%B8%D1%87', 'start_mandate': datetime.datetime(2000, 5, 7, 0, 0), 'end_mandate': datetime.datetime(2008, 5, 7, 0, 0), 'country': 'ru'}\n",
      "{'_id': ObjectId('66bc9c5657b75da88ded5ec7'), 'id': 'Q1951892', 'first_name': 'Mohammed', 'last_name': 'None', 'birth_date': None, 'death_date': None, 'place_of_birth': 'None', 'wikipedia_url': 'https://ar.wikipedia.org/wiki/%D9%85%D8%AD%D9%85%D8%AF_%D8%A7%D9%84%D8%B4%D9%8A%D8%AE', 'start_mandate': datetime.datetime(1544, 1, 1, 0, 0), 'end_mandate': datetime.datetime(1554, 1, 1, 0, 0), 'country': 'ma'}\n",
      "{'_id': ObjectId('66bc9c5657b75da88ded5ec8'), 'id': 'Q23', 'first_name': 'George', 'last_name': 'Washington', 'birth_date': datetime.datetime(1732, 2, 22, 0, 0), 'death_date': datetime.datetime(1799, 12, 14, 0, 0), 'place_of_birth': 'Westmoreland County', 'wikipedia_url': 'https://en.wikipedia.org/wiki/George_Washington', 'start_mandate': datetime.datetime(1789, 4, 30, 0, 0), 'end_mandate': datetime.datetime(1797, 3, 4, 0, 0), 'country': 'us'}\n",
      "{'_id': ObjectId('66bc9c5657b75da88ded5ec9'), 'id': 'Q76', 'first_name': 'Barack', 'last_name': 'Obama', 'birth_date': datetime.datetime(1961, 8, 4, 0, 0), 'death_date': None, 'place_of_birth': 'Kapiolani Medical Center for Women and Children', 'wikipedia_url': 'https://en.wikipedia.org/wiki/Barack_Obama', 'start_mandate': datetime.datetime(2009, 1, 20, 0, 0), 'end_mandate': datetime.datetime(2017, 1, 20, 0, 0), 'country': 'us'}\n",
      "{'_id': ObjectId('66bc9c5657b75da88ded5eca'), 'id': 'Q91', 'first_name': 'Abraham', 'last_name': 'Lincoln', 'birth_date': datetime.datetime(1809, 2, 12, 0, 0), 'death_date': datetime.datetime(1865, 4, 15, 0, 0), 'place_of_birth': 'Sinking Spring Farm', 'wikipedia_url': 'https://en.wikipedia.org/wiki/Abraham_Lincoln', 'start_mandate': datetime.datetime(1861, 3, 4, 0, 0), 'end_mandate': datetime.datetime(1865, 4, 15, 0, 0), 'country': 'us'}\n"
     ]
    }
   ],
   "source": [
    "for leader in db['leaders'].find().limit(5):\n",
    "    print(leader)"
   ]
  },
  {
   "cell_type": "code",
   "execution_count": 21,
   "metadata": {},
   "outputs": [
    {
     "name": "stdout",
     "output_type": "stream",
     "text": [
      "{'_id': ObjectId('66bc9c5657b75da88ded5ec6'), 'id': 'Q7747', 'first_name': 'Vladimir', 'last_name': 'Putin', 'birth_date': datetime.datetime(1952, 10, 7, 0, 0), 'death_date': None, 'place_of_birth': 'Saint Petersburg', 'wikipedia_url': 'https://ru.wikipedia.org/wiki/%D0%9F%D1%83%D1%82%D0%B8%D0%BD,_%D0%92%D0%BB%D0%B0%D0%B4%D0%B8%D0%BC%D0%B8%D1%80_%D0%92%D0%BB%D0%B0%D0%B4%D0%B8%D0%BC%D0%B8%D1%80%D0%BE%D0%B2%D0%B8%D1%87', 'start_mandate': datetime.datetime(2000, 5, 7, 0, 0), 'end_mandate': datetime.datetime(2008, 5, 7, 0, 0), 'country': 'ru'}\n"
     ]
    }
   ],
   "source": [
    "leader = db['leaders'].find_one()\n",
    "print(leader)"
   ]
  },
  {
   "cell_type": "code",
   "execution_count": 22,
   "metadata": {},
   "outputs": [
    {
     "data": {
      "text/plain": [
       "DeleteResult({'n': 0, 'ok': 1.0}, acknowledged=True)"
      ]
     },
     "execution_count": 22,
     "metadata": {},
     "output_type": "execute_result"
    }
   ],
   "source": [
    "db['leaders'].delete_many({'last_name': None})\n",
    "\n"
   ]
  },
  {
   "cell_type": "code",
   "execution_count": 23,
   "metadata": {},
   "outputs": [
    {
     "name": "stdout",
     "output_type": "stream",
     "text": [
      "Total number of documents: 411\n"
     ]
    }
   ],
   "source": [
    "count = db['leaders'].count_documents({})\n",
    "print(f\"Total number of documents: {count}\")"
   ]
  },
  {
   "cell_type": "markdown",
   "metadata": {},
   "source": [
    "- Display all unique first names from the collection"
   ]
  },
  {
   "cell_type": "code",
   "execution_count": 24,
   "metadata": {},
   "outputs": [
    {
     "name": "stdout",
     "output_type": "stream",
     "text": [
      "Unique First Names: \n",
      "Abraham\n",
      "Achille\n",
      "Adolphe\n",
      "Alain\n",
      "Albert\n",
      "Alexander\n",
      "Alexandre\n",
      "Aloïs\n",
      "Andrew\n",
      "Auguste\n",
      "Barack\n",
      "Barthélemy\n",
      "Benjamin\n",
      "Bill\n",
      "Boris\n",
      "Camille\n",
      "Charles\n",
      "Chester\n",
      "Clément\n",
      "Dmitry\n",
      "Donald\n",
      "Dwight\n",
      "Edmond\n",
      "Elio\n",
      "Emmanuel\n",
      "Felix\n",
      "Franklin\n",
      "Frans\n",
      "François\n",
      "Frédéric\n",
      "Félix\n",
      "Gaston\n",
      "George\n",
      "Georges\n",
      "Gerald\n",
      "Guy\n",
      "Gérard\n",
      "Harry\n",
      "Hassan\n",
      "Henri\n",
      "Henry\n",
      "Herbert\n",
      "Herman\n",
      "Hubert\n",
      "Jacques\n",
      "James\n",
      "Jean\n",
      "Jean-Baptiste\n",
      "Jean-Luc\n",
      "Jimmy\n",
      "Joe\n",
      "John\n",
      "Joseph\n",
      "Jules\n",
      "Leo\n",
      "Louis\n",
      "Lyndon\n",
      "Léon\n",
      "Marie\n",
      "Mark\n",
      "Martin\n",
      "Millard\n",
      "Mohammed\n",
      "Napoléon\n",
      "Nicolas\n",
      "Patrice\n",
      "Paul\n",
      "Paul-Henri\n",
      "Paul-Émile\n",
      "Pierre\n",
      "Pieter\n",
      "Prosper\n",
      "Raymond\n",
      "René\n",
      "Richard\n",
      "Ronald\n",
      "Rutherford\n",
      "Sophie\n",
      "Stephen\n",
      "Sylvain\n",
      "Theodore\n",
      "Thomas\n",
      "Théodore\n",
      "Ulysses\n",
      "Valéry\n",
      "Vincent\n",
      "Vladimir\n",
      "Walthère\n",
      "Warren\n",
      "Wilfried\n",
      "William\n",
      "Woodrow\n",
      "Yves\n",
      "Zachary\n",
      "Émile\n",
      "Étienne\n"
     ]
    }
   ],
   "source": [
    "unique_first_names = db['leaders'].distinct('first_name')\n",
    "print(\"Unique First Names: \")\n",
    "for name in unique_first_names:\n",
    "    print(name)\n"
   ]
  },
  {
   "cell_type": "markdown",
   "metadata": {},
   "source": [
    "\n",
    "- Transform all the dates of the dataset by a datetime object (they are currently strings which is not a good practice). You can use a python script that interacts with the DB instead of doing everything in a single query\n"
   ]
  },
  {
   "cell_type": "code",
   "execution_count": 25,
   "metadata": {},
   "outputs": [
    {
     "name": "stdout",
     "output_type": "stream",
     "text": [
      "Field: _id, Type: <class 'bson.objectid.ObjectId'>\n",
      "Field: id, Type: <class 'str'>\n",
      "Field: first_name, Type: <class 'str'>\n",
      "Field: last_name, Type: <class 'str'>\n",
      "Field: birth_date, Type: <class 'datetime.datetime'>\n",
      "Field: death_date, Type: <class 'NoneType'>\n",
      "Field: place_of_birth, Type: <class 'str'>\n",
      "Field: wikipedia_url, Type: <class 'str'>\n",
      "Field: start_mandate, Type: <class 'datetime.datetime'>\n",
      "Field: end_mandate, Type: <class 'datetime.datetime'>\n",
      "Field: country, Type: <class 'str'>\n"
     ]
    }
   ],
   "source": [
    "sample_document = db['leaders'].find_one()\n",
    "\n",
    "for field, value in sample_document.items():\n",
    "    print(f\"Field: {field}, Type: {type(value)}\")"
   ]
  },
  {
   "cell_type": "code",
   "execution_count": 26,
   "metadata": {},
   "outputs": [],
   "source": [
    "from datetime import datetime\n",
    "\n",
    "def convert_date(date_str):\n",
    "        if date_str:\n",
    "            try:\n",
    "                return datetime.strptime(date_str, '%Y-%m-%d')\n",
    "            except ValueError:\n",
    "                print(f\"Date format error for value: {date_str}\")\n",
    "                return None\n",
    "        return None"
   ]
  },
  {
   "cell_type": "code",
   "execution_count": 27,
   "metadata": {},
   "outputs": [
    {
     "ename": "TypeError",
     "evalue": "strptime() argument 1 must be str, not datetime.datetime",
     "output_type": "error",
     "traceback": [
      "\u001b[1;31m---------------------------------------------------------------------------\u001b[0m",
      "\u001b[1;31mTypeError\u001b[0m                                 Traceback (most recent call last)",
      "Cell \u001b[1;32mIn[27], line 2\u001b[0m\n\u001b[0;32m      1\u001b[0m \u001b[38;5;28;01mfor\u001b[39;00m doc \u001b[38;5;129;01min\u001b[39;00m db[\u001b[38;5;124m'\u001b[39m\u001b[38;5;124mleaders\u001b[39m\u001b[38;5;124m'\u001b[39m]\u001b[38;5;241m.\u001b[39mfind():\n\u001b[1;32m----> 2\u001b[0m     birth_date \u001b[38;5;241m=\u001b[39m \u001b[43mconvert_date\u001b[49m\u001b[43m(\u001b[49m\u001b[43mdoc\u001b[49m\u001b[38;5;241;43m.\u001b[39;49m\u001b[43mget\u001b[49m\u001b[43m(\u001b[49m\u001b[38;5;124;43m'\u001b[39;49m\u001b[38;5;124;43mbirth_date\u001b[39;49m\u001b[38;5;124;43m'\u001b[39;49m\u001b[43m,\u001b[49m\u001b[43m \u001b[49m\u001b[38;5;124;43m'\u001b[39;49m\u001b[38;5;124;43m'\u001b[39;49m\u001b[43m)\u001b[49m\u001b[43m)\u001b[49m\n\u001b[0;32m      3\u001b[0m     death_date \u001b[38;5;241m=\u001b[39m convert_date(doc\u001b[38;5;241m.\u001b[39mget(\u001b[38;5;124m'\u001b[39m\u001b[38;5;124mdeath_date\u001b[39m\u001b[38;5;124m'\u001b[39m, \u001b[38;5;124m'\u001b[39m\u001b[38;5;124m'\u001b[39m))\n\u001b[0;32m      4\u001b[0m     start_mandate \u001b[38;5;241m=\u001b[39m convert_date(doc\u001b[38;5;241m.\u001b[39mget(\u001b[38;5;124m'\u001b[39m\u001b[38;5;124mstart_mandate\u001b[39m\u001b[38;5;124m'\u001b[39m, \u001b[38;5;124m'\u001b[39m\u001b[38;5;124m'\u001b[39m))\n",
      "Cell \u001b[1;32mIn[26], line 6\u001b[0m, in \u001b[0;36mconvert_date\u001b[1;34m(date_str)\u001b[0m\n\u001b[0;32m      4\u001b[0m \u001b[38;5;28;01mif\u001b[39;00m date_str:\n\u001b[0;32m      5\u001b[0m     \u001b[38;5;28;01mtry\u001b[39;00m:\n\u001b[1;32m----> 6\u001b[0m         \u001b[38;5;28;01mreturn\u001b[39;00m \u001b[43mdatetime\u001b[49m\u001b[38;5;241;43m.\u001b[39;49m\u001b[43mstrptime\u001b[49m\u001b[43m(\u001b[49m\u001b[43mdate_str\u001b[49m\u001b[43m,\u001b[49m\u001b[43m \u001b[49m\u001b[38;5;124;43m'\u001b[39;49m\u001b[38;5;124;43m%\u001b[39;49m\u001b[38;5;124;43mY-\u001b[39;49m\u001b[38;5;124;43m%\u001b[39;49m\u001b[38;5;124;43mm-\u001b[39;49m\u001b[38;5;132;43;01m%d\u001b[39;49;00m\u001b[38;5;124;43m'\u001b[39;49m\u001b[43m)\u001b[49m\n\u001b[0;32m      7\u001b[0m     \u001b[38;5;28;01mexcept\u001b[39;00m \u001b[38;5;167;01mValueError\u001b[39;00m:\n\u001b[0;32m      8\u001b[0m         \u001b[38;5;28mprint\u001b[39m(\u001b[38;5;124mf\u001b[39m\u001b[38;5;124m\"\u001b[39m\u001b[38;5;124mDate format error for value: \u001b[39m\u001b[38;5;132;01m{\u001b[39;00mdate_str\u001b[38;5;132;01m}\u001b[39;00m\u001b[38;5;124m\"\u001b[39m)\n",
      "\u001b[1;31mTypeError\u001b[0m: strptime() argument 1 must be str, not datetime.datetime"
     ]
    }
   ],
   "source": [
    "\n",
    "for doc in db['leaders'].find():\n",
    "    birth_date = convert_date(doc.get('birth_date', ''))\n",
    "    death_date = convert_date(doc.get('death_date', ''))\n",
    "    start_mandate = convert_date(doc.get('start_mandate', ''))\n",
    "    end_mandate = convert_date(doc.get('end_mandate', ''))\n",
    "\n",
    "    update_query = {\n",
    "        'birth_date' : birth_date,\n",
    "        'death_date' : death_date,\n",
    "        'start_mandate': start_mandate,\n",
    "        'end_mandate' : end_mandate \n",
    "    }\n",
    "\n",
    "    db['leaders'].update_one({'_id' : doc['_id']}, {'$set': update_query})\n",
    "print('Date transformation completed.')"
   ]
  },
  {
   "cell_type": "code",
   "execution_count": null,
   "metadata": {},
   "outputs": [
    {
     "ename": "TypeError",
     "evalue": "strptime() argument 1 must be str, not datetime.datetime",
     "output_type": "error",
     "traceback": [
      "\u001b[1;31m---------------------------------------------------------------------------\u001b[0m",
      "\u001b[1;31mTypeError\u001b[0m                                 Traceback (most recent call last)",
      "Cell \u001b[1;32mIn[28], line 13\u001b[0m\n\u001b[0;32m     10\u001b[0m     \u001b[38;5;28;01mreturn\u001b[39;00m \u001b[38;5;28;01mNone\u001b[39;00m\n\u001b[0;32m     12\u001b[0m \u001b[38;5;28;01mfor\u001b[39;00m doc \u001b[38;5;129;01min\u001b[39;00m db[\u001b[38;5;124m'\u001b[39m\u001b[38;5;124mleaders\u001b[39m\u001b[38;5;124m'\u001b[39m]\u001b[38;5;241m.\u001b[39mfind():\n\u001b[1;32m---> 13\u001b[0m     birth_date \u001b[38;5;241m=\u001b[39m \u001b[43mconvert_date\u001b[49m\u001b[43m(\u001b[49m\u001b[43mdoc\u001b[49m\u001b[38;5;241;43m.\u001b[39;49m\u001b[43mget\u001b[49m\u001b[43m(\u001b[49m\u001b[38;5;124;43m'\u001b[39;49m\u001b[38;5;124;43mbirth_date\u001b[39;49m\u001b[38;5;124;43m'\u001b[39;49m\u001b[43m,\u001b[49m\u001b[43m \u001b[49m\u001b[38;5;124;43m'\u001b[39;49m\u001b[38;5;124;43m'\u001b[39;49m\u001b[43m)\u001b[49m\u001b[43m)\u001b[49m\n\u001b[0;32m     14\u001b[0m     death_date \u001b[38;5;241m=\u001b[39m convert_date(doc\u001b[38;5;241m.\u001b[39mget(\u001b[38;5;124m'\u001b[39m\u001b[38;5;124mdeath_date\u001b[39m\u001b[38;5;124m'\u001b[39m, \u001b[38;5;124m'\u001b[39m\u001b[38;5;124m'\u001b[39m))\n\u001b[0;32m     15\u001b[0m     start_mandate \u001b[38;5;241m=\u001b[39m convert_date(doc\u001b[38;5;241m.\u001b[39mget(\u001b[38;5;124m'\u001b[39m\u001b[38;5;124mstart_mandate\u001b[39m\u001b[38;5;124m'\u001b[39m, \u001b[38;5;124m'\u001b[39m\u001b[38;5;124m'\u001b[39m))\n",
      "Cell \u001b[1;32mIn[28], line 6\u001b[0m, in \u001b[0;36mconvert_date\u001b[1;34m(date_str)\u001b[0m\n\u001b[0;32m      4\u001b[0m \u001b[38;5;28;01mif\u001b[39;00m date_str:\n\u001b[0;32m      5\u001b[0m     \u001b[38;5;28;01mtry\u001b[39;00m:\n\u001b[1;32m----> 6\u001b[0m         \u001b[38;5;28;01mreturn\u001b[39;00m \u001b[43mdatetime\u001b[49m\u001b[38;5;241;43m.\u001b[39;49m\u001b[43mstrptime\u001b[49m\u001b[43m(\u001b[49m\u001b[43mdate_str\u001b[49m\u001b[43m,\u001b[49m\u001b[43m \u001b[49m\u001b[38;5;124;43m'\u001b[39;49m\u001b[38;5;124;43m%\u001b[39;49m\u001b[38;5;124;43mY-\u001b[39;49m\u001b[38;5;124;43m%\u001b[39;49m\u001b[38;5;124;43mm-\u001b[39;49m\u001b[38;5;132;43;01m%d\u001b[39;49;00m\u001b[38;5;124;43m'\u001b[39;49m\u001b[43m)\u001b[49m\n\u001b[0;32m      7\u001b[0m     \u001b[38;5;28;01mexcept\u001b[39;00m \u001b[38;5;167;01mValueError\u001b[39;00m:\n\u001b[0;32m      8\u001b[0m         \u001b[38;5;28mprint\u001b[39m(\u001b[38;5;124mf\u001b[39m\u001b[38;5;124m\"\u001b[39m\u001b[38;5;124mDate format error for value: \u001b[39m\u001b[38;5;132;01m{\u001b[39;00mdate_str\u001b[38;5;132;01m}\u001b[39;00m\u001b[38;5;124m\"\u001b[39m)\n",
      "\u001b[1;31mTypeError\u001b[0m: strptime() argument 1 must be str, not datetime.datetime"
     ]
    }
   ],
   "source": [
    "from datetime import datetime\n",
    "\n",
    "def convert_date(date_str):\n",
    "    if date_str:\n",
    "        try:\n",
    "            return datetime.strptime(date_str, '%Y-%m-%d')\n",
    "        except ValueError:\n",
    "            print(f\"Date format error for value: {date_str}\")\n",
    "            return None\n",
    "    return None\n",
    "\n",
    "for doc in db['leaders'].find():\n",
    "    birth_date = convert_date(doc.get('birth_date', ''))\n",
    "    death_date = convert_date(doc.get('death_date', ''))\n",
    "    start_mandate = convert_date(doc.get('start_mandate', ''))\n",
    "    end_mandate = convert_date(doc.get('end_mandate', ''))\n",
    "\n",
    "    update_query = {\n",
    "        'birth_date': birth_date,\n",
    "        'death_date': death_date,\n",
    "        'start_mandate': start_mandate,\n",
    "        'end_mandate': end_mandate\n",
    "    }\n",
    "\n",
    "    db['leaders'].update_one({'_id': doc['_id']}, {'$set': update_query})\n",
    "\n",
    "print('Date transformation completed.')\n"
   ]
  },
  {
   "cell_type": "code",
   "execution_count": null,
   "metadata": {},
   "outputs": [
    {
     "name": "stdout",
     "output_type": "stream",
     "text": [
      "Field: _id, Value: 66bc9c5657b75da88ded5ec6, Type: <class 'bson.objectid.ObjectId'>\n",
      "Field: id, Value: Q7747, Type: <class 'str'>\n",
      "Field: first_name, Value: Vladimir, Type: <class 'str'>\n",
      "Field: last_name, Value: Putin, Type: <class 'str'>\n",
      "Field: birth_date, Value: 1952-10-07 00:00:00, Type: <class 'datetime.datetime'>\n",
      "Field: death_date, Value: None, Type: <class 'NoneType'>\n",
      "Field: place_of_birth, Value: Saint Petersburg, Type: <class 'str'>\n",
      "Field: wikipedia_url, Value: https://ru.wikipedia.org/wiki/%D0%9F%D1%83%D1%82%D0%B8%D0%BD,_%D0%92%D0%BB%D0%B0%D0%B4%D0%B8%D0%BC%D0%B8%D1%80_%D0%92%D0%BB%D0%B0%D0%B4%D0%B8%D0%BC%D0%B8%D1%80%D0%BE%D0%B2%D0%B8%D1%87, Type: <class 'str'>\n",
      "Field: start_mandate, Value: 2000-05-07 00:00:00, Type: <class 'datetime.datetime'>\n",
      "Field: end_mandate, Value: 2008-05-07 00:00:00, Type: <class 'datetime.datetime'>\n",
      "Field: country, Value: ru, Type: <class 'str'>\n"
     ]
    }
   ],
   "source": [
    "# Güncellenmiş verileri kontrol et\n",
    "sample_document = db['leaders'].find_one()\n",
    "for field, value in sample_document.items():\n",
    "    print(f\"Field: {field}, Value: {value}, Type: {type(value)}\")\n"
   ]
  },
  {
   "cell_type": "markdown",
   "metadata": {},
   "source": [
    "- Display the 10 older leaders ordered by their birth date (search for how to sort and to use limits in MongoDB)\n"
   ]
  },
  {
   "cell_type": "code",
   "execution_count": null,
   "metadata": {},
   "outputs": [
    {
     "name": "stdout",
     "output_type": "stream",
     "text": [
      "{'_id': ObjectId('66bc9c5657b75da88ded5ec7'), 'id': 'Q1951892', 'first_name': 'Mohammed', 'last_name': 'None', 'birth_date': None, 'death_date': None, 'place_of_birth': 'None', 'wikipedia_url': 'https://ar.wikipedia.org/wiki/%D9%85%D8%AD%D9%85%D8%AF_%D8%A7%D9%84%D8%B4%D9%8A%D8%AE', 'start_mandate': datetime.datetime(1544, 1, 1, 0, 0), 'end_mandate': datetime.datetime(1554, 1, 1, 0, 0), 'country': 'ma'}\n",
      "{'_id': ObjectId('66bcc1b058ed3e93a6e3ea2c'), 'id': 'Q334782', 'first_name': 'Mohammed', 'last_name': 'None', 'birth_date': None, 'death_date': None, 'place_of_birth': 'None', 'wikipedia_url': 'https://ar.wikipedia.org/wiki/%D8%A7%D9%84%D9%82%D8%A7%D8%A6%D9%85_%D8%A8%D8%A3%D9%85%D8%B1_%D8%A7%D9%84%D9%84%D9%87_%D8%A7%D9%84%D8%B3%D8%B9%D8%AF%D9%8A', 'start_mandate': None, 'end_mandate': '1517-01-01', 'country': 'ma'}\n",
      "{'_id': ObjectId('66bcc1b058ed3e93a6e3ea32'), 'id': 'Q11806', 'first_name': 'John', 'last_name': 'Adams', 'birth_date': None, 'death_date': '1826-07-04', 'place_of_birth': 'Braintree', 'wikipedia_url': 'https://en.wikipedia.org/wiki/John_Adams', 'start_mandate': '1797-03-04', 'end_mandate': '1801-03-04', 'country': 'us'}\n",
      "{'_id': ObjectId('66bc9c5657b75da88ded5ed9'), 'id': 'Q11812', 'first_name': 'Thomas', 'last_name': 'Jefferson', 'birth_date': None, 'death_date': datetime.datetime(1826, 7, 4, 0, 0), 'place_of_birth': 'Shadwell', 'wikipedia_url': 'https://en.wikipedia.org/wiki/Thomas_Jefferson', 'start_mandate': datetime.datetime(1801, 3, 4, 0, 0), 'end_mandate': datetime.datetime(1809, 3, 4, 0, 0), 'country': 'us'}\n",
      "{'_id': ObjectId('66bcc1b058ed3e93a6e3ea22'), 'id': 'Q1951892', 'first_name': 'Mohammed', 'last_name': 'None', 'birth_date': None, 'death_date': None, 'place_of_birth': 'None', 'wikipedia_url': 'https://ar.wikipedia.org/wiki/%D9%85%D8%AD%D9%85%D8%AF_%D8%A7%D9%84%D8%B4%D9%8A%D8%AE', 'start_mandate': '1544-01-01', 'end_mandate': '1554-01-01', 'country': 'ma'}\n",
      "{'_id': ObjectId('66bc9c5657b75da88ded5ed8'), 'id': 'Q11806', 'first_name': 'John', 'last_name': 'Adams', 'birth_date': None, 'death_date': datetime.datetime(1826, 7, 4, 0, 0), 'place_of_birth': 'Braintree', 'wikipedia_url': 'https://en.wikipedia.org/wiki/John_Adams', 'start_mandate': datetime.datetime(1797, 3, 4, 0, 0), 'end_mandate': datetime.datetime(1801, 3, 4, 0, 0), 'country': 'us'}\n",
      "{'_id': ObjectId('66bcc1b058ed3e93a6e3ea34'), 'id': 'Q11812', 'first_name': 'Thomas', 'last_name': 'Jefferson', 'birth_date': None, 'death_date': '1826-07-04', 'place_of_birth': 'Shadwell', 'wikipedia_url': 'https://en.wikipedia.org/wiki/Thomas_Jefferson', 'start_mandate': '1801-03-04', 'end_mandate': '1809-03-04', 'country': 'us'}\n",
      "{'_id': ObjectId('66bc9c5657b75da88ded5ed2'), 'id': 'Q334782', 'first_name': 'Mohammed', 'last_name': 'None', 'birth_date': None, 'death_date': None, 'place_of_birth': 'None', 'wikipedia_url': 'https://ar.wikipedia.org/wiki/%D8%A7%D9%84%D9%82%D8%A7%D8%A6%D9%85_%D8%A8%D8%A3%D9%85%D8%B1_%D8%A7%D9%84%D9%84%D9%87_%D8%A7%D9%84%D8%B3%D8%B9%D8%AF%D9%8A', 'start_mandate': None, 'end_mandate': datetime.datetime(1517, 1, 1, 0, 0), 'country': 'ma'}\n",
      "{'_id': ObjectId('66bcc1b058ed3e93a6e3ea25'), 'id': 'Q23', 'first_name': 'George', 'last_name': 'Washington', 'birth_date': '1732-02-22', 'death_date': '1799-12-14', 'place_of_birth': 'Westmoreland County', 'wikipedia_url': 'https://en.wikipedia.org/wiki/George_Washington', 'start_mandate': '1789-04-30', 'end_mandate': '1797-03-04', 'country': 'us'}\n",
      "{'_id': ObjectId('66bcc1b058ed3e93a6e3ea3a'), 'id': 'Q11813', 'first_name': 'James', 'last_name': 'Madison', 'birth_date': '1751-03-16', 'death_date': '1836-06-28', 'place_of_birth': 'Port Conway', 'wikipedia_url': 'https://en.wikipedia.org/wiki/James_Madison', 'start_mandate': '1809-03-04', 'end_mandate': '1817-03-04', 'country': 'us'}\n"
     ]
    }
   ],
   "source": [
    "oldest_leaders = db['leaders'].find().sort('birth_date', 1).limit(10)\n",
    "\n",
    "for leader in oldest_leaders:\n",
    "    print(leader)"
   ]
  },
  {
   "cell_type": "code",
   "execution_count": null,
   "metadata": {},
   "outputs": [
    {
     "name": "stdout",
     "output_type": "stream",
     "text": [
      "Name: George Washington\n",
      "Birth Date: 1732-02-22\n",
      "Country: us\n",
      "-------------------------\n",
      "Name: James Madison\n",
      "Birth Date: 1751-03-16\n",
      "Country: us\n",
      "-------------------------\n",
      "Name: James Monroe\n",
      "Birth Date: 1758-04-28\n",
      "Country: us\n",
      "-------------------------\n",
      "Name: Andrew Jackson\n",
      "Birth Date: 1767-03-15\n",
      "Country: us\n",
      "-------------------------\n",
      "Name: John Adams\n",
      "Birth Date: 1767-07-11\n",
      "Country: us\n",
      "-------------------------\n",
      "Name: William Harrison\n",
      "Birth Date: 1773-02-09\n",
      "Country: us\n",
      "-------------------------\n",
      "Name: Martin Van Buren\n",
      "Birth Date: 1782-12-05\n",
      "Country: us\n",
      "-------------------------\n",
      "Name: Zachary Taylor\n",
      "Birth Date: 1784-11-24\n",
      "Country: us\n",
      "-------------------------\n",
      "Name: Étienne Gerlache\n",
      "Birth Date: 1785-12-26\n",
      "Country: be\n",
      "-------------------------\n",
      "Name: John Tyler\n",
      "Birth Date: 1790-03-29\n",
      "Country: us\n",
      "-------------------------\n"
     ]
    }
   ],
   "source": [
    "oldest_leaders = db['leaders'].find(\n",
    "    {'birth_date': {'$ne': None}},\n",
    "    {'first_name': 1, 'last_name': 1, 'birth_date': 1, 'country': 1}\n",
    ").sort('birth_date', 1).limit(10)\n",
    "\n",
    "\n",
    "for leader in oldest_leaders:\n",
    "    print(f\"Name: {leader.get('first_name', 'N/A')} {leader.get('last_name', 'N/A')}\")\n",
    "    print(f\"Birth Date: {leader.get('birth_date', 'N/A')}\")\n",
    "    print(f\"Country: {leader.get('country', 'N/A')}\")\n",
    "    print('-' * 25)"
   ]
  },
  {
   "cell_type": "code",
   "execution_count": null,
   "metadata": {},
   "outputs": [
    {
     "name": "stdout",
     "output_type": "stream",
     "text": [
      "1952-10-07 00:00:00\n",
      "<class 'datetime.datetime'>\n"
     ]
    }
   ],
   "source": [
    "sample = db['leaders'].find_one({'birth_date': {'$ne': None}})\n",
    "\n",
    "\n",
    "print(f\"{sample.get('birth_date')}\")\n",
    "print(f\"{type(sample.get('birth_date'))}\")"
   ]
  },
  {
   "cell_type": "code",
   "execution_count": null,
   "metadata": {},
   "outputs": [
    {
     "name": "stdout",
     "output_type": "stream",
     "text": [
      "1952-10-07 00:00:00, <class 'datetime.datetime'>\n",
      "1732-02-22 00:00:00, <class 'datetime.datetime'>\n",
      "1961-08-04 00:00:00, <class 'datetime.datetime'>\n",
      "1809-02-12 00:00:00, <class 'datetime.datetime'>\n",
      "1946-07-06 00:00:00, <class 'datetime.datetime'>\n",
      "1909-08-10 00:00:00, <class 'datetime.datetime'>\n",
      "1942-11-20 00:00:00, <class 'datetime.datetime'>\n",
      "1946-08-19 00:00:00, <class 'datetime.datetime'>\n",
      "1882-01-30 00:00:00, <class 'datetime.datetime'>\n",
      "1913-07-14 00:00:00, <class 'datetime.datetime'>\n"
     ]
    }
   ],
   "source": [
    "docs = db['leaders'].find({'birth_date': {'$ne': None}}).limit(10)\n",
    "\n",
    "for doc in docs:\n",
    "    birth_date = doc.get('birth_date')\n",
    "    print(f\"{birth_date}, {type(birth_date)}\")\n",
    "\n",
    "\n",
    "# print(f\"{sample.get('birth_date')}\")\n",
    "# print(f\"{type(sample.get('birth_date'))}\")"
   ]
  },
  {
   "cell_type": "markdown",
   "metadata": {},
   "source": [
    "- Create a Python script that computes the numbers of leaders by country"
   ]
  },
  {
   "cell_type": "code",
   "execution_count": null,
   "metadata": {},
   "outputs": [
    {
     "name": "stdout",
     "output_type": "stream",
     "text": [
      "Country: ru, Number of Leaders: 6\n",
      "Country: ma, Number of Leaders: 10\n",
      "Country: us, Number of Leaders: 90\n",
      "Country: be, Number of Leaders: 106\n",
      "Country: fr, Number of Leaders: 62\n"
     ]
    }
   ],
   "source": [
    "from pymongo import MongoClient\n",
    "\n",
    "country_counts = {}\n",
    "\n",
    "for leader in db['leaders'].find():\n",
    "    country = leader.get('country', 'Unkown')\n",
    "    if country not in country_counts:\n",
    "        country_counts[country] = 0\n",
    "    country_counts[country] += 1\n",
    "\n",
    "# for i in country_counts:\n",
    "#     print(i)\n",
    "\n",
    "for  country, count in country_counts.items():\n",
    "    print(f\"Country: {country}, Number of Leaders: {count}\")\n",
    "\n"
   ]
  },
  {
   "cell_type": "markdown",
   "metadata": {},
   "source": [
    "- Do the same by using a MongoDB [aggregation pipeline](https://www.mongodb.com/docs/manual/aggregation/)\n"
   ]
  },
  {
   "cell_type": "code",
   "execution_count": 28,
   "metadata": {},
   "outputs": [
    {
     "name": "stdout",
     "output_type": "stream",
     "text": [
      "Country: be, Number of Leaders: 159\n",
      "Country: us, Number of Leaders: 135\n",
      "Country: fr, Number of Leaders: 93\n",
      "Country: ma, Number of Leaders: 15\n",
      "Country: ru, Number of Leaders: 9\n"
     ]
    }
   ],
   "source": [
    "from pymongo import MongoClient\n",
    "\n",
    "country_counts = {}\n",
    "\n",
    "for leader in db['leaders'].find():\n",
    "    country = leader.get('country', 'Unkown')\n",
    "    if country not in country_counts:\n",
    "        country_counts[country] = 0\n",
    "    country_counts[country] += 1\n",
    "\n",
    "sorted_country_leader_count = sorted(country_counts.items(), key = lambda x: x[1], reverse = True)\n",
    "\n",
    "for  country, count in sorted_country_leader_count:\n",
    "    print(f\"Country: {country}, Number of Leaders: {count}\")\n",
    "\n"
   ]
  },
  {
   "cell_type": "code",
   "execution_count": 29,
   "metadata": {},
   "outputs": [
    {
     "name": "stdout",
     "output_type": "stream",
     "text": [
      "Country: be, Number of Leaders: 159\n",
      "Country: us, Number of Leaders: 135\n",
      "Country: fr, Number of Leaders: 93\n",
      "Country: ma, Number of Leaders: 15\n",
      "Country: ru, Number of Leaders: 9\n"
     ]
    }
   ],
   "source": [
    "pipeline = [\n",
    "    {\n",
    "        '$group':{\n",
    "            '_id': '$country',\n",
    "            'count': { '$sum': 1 }\n",
    "        }\n",
    "    },\n",
    "    {\n",
    "        '$sort': {'count': -1}\n",
    "    }\n",
    "]\n",
    "\n",
    "result = db['leaders'].aggregate(pipeline)\n",
    "\n",
    "for item in result:\n",
    "    print(f\"Country: {item['_id']}, Number of Leaders: {item['count']}\")\n",
    "\n",
    "\n"
   ]
  },
  {
   "cell_type": "markdown",
   "metadata": {},
   "source": [
    "## Resources:\n",
    "* [NoSQL Concepts (DataCamp)](https://www.datacamp.com/courses/nosql-concepts)\n",
    "* [Introduction to MongoDB using Python (DataCamp)](https://www.datacamp.com/courses/introduction-to-using-mongodb-for-data-science-with-python)\n",
    "* [Getting started with MongoDB](https://docs.mongodb.com/manual/tutorial/)\n",
    "* [Python MongoDB Tutorial](https://www.mongodb.com/blog/post/getting-started-with-python-and-mongodb)\n",
    "* [Introduction to MongoDB Learning Path](https://learn.mongodb.com/learning-paths/introduction-to-mongodb)\n",
    "* [Build an App With Python, Flask, and MongoDB to Track UFOs](https://www.mongodb.com/developer/languages/python/flask-app-ufo-tracking/)"
   ]
  }
 ],
 "metadata": {
  "kernelspec": {
   "display_name": "Python 3.8.6 64-bit",
   "language": "python",
   "name": "python3"
  },
  "language_info": {
   "codemirror_mode": {
    "name": "ipython",
    "version": 3
   },
   "file_extension": ".py",
   "mimetype": "text/x-python",
   "name": "python",
   "nbconvert_exporter": "python",
   "pygments_lexer": "ipython3",
   "version": "3.12.4"
  },
  "vscode": {
   "interpreter": {
    "hash": "082e9a3bcad0a290d0001e938aa60b99250c6c2ef33a923c00b70f9826caf4b7"
   }
  }
 },
 "nbformat": 4,
 "nbformat_minor": 4
}
